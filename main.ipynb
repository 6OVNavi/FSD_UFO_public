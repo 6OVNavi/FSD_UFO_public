{
  "nbformat": 4,
  "nbformat_minor": 0,
  "metadata": {
    "colab": {
      "provenance": []
    },
    "kernelspec": {
      "name": "python3",
      "display_name": "Python 3"
    },
    "language_info": {
      "name": "python"
    }
  },
  "cells": [
    {
      "cell_type": "code",
      "execution_count": 1404,
      "metadata": {
        "id": "S8YB8S4M1kCI"
      },
      "outputs": [],
      "source": [
        "#!unzip \"/content/drive/MyDrive/train_dataset_Самолет2.zip\" -d \"/content/\""
      ]
    },
    {
      "cell_type": "markdown",
      "source": [
        "# Устанавливаем КБ и подгружаем библиотеки\n"
      ],
      "metadata": {
        "id": "wm3A7ygIQwXK"
      }
    },
    {
      "cell_type": "code",
      "source": [
        "!pip install catboost"
      ],
      "metadata": {
        "id": "wEeNrHOD7Rbg"
      },
      "execution_count": 1405,
      "outputs": []
    },
    {
      "cell_type": "code",
      "source": [
        "import pandas as pd\n",
        "import numpy as np\n",
        "import random,os"
      ],
      "metadata": {
        "id": "GB1iF7bv63Ga"
      },
      "execution_count": 1406,
      "outputs": []
    },
    {
      "cell_type": "markdown",
      "source": [
        "# Проставляем сиды"
      ],
      "metadata": {
        "id": "XYqbn7spQ1a_"
      }
    },
    {
      "cell_type": "code",
      "source": [
        "def seed_everything(seed: int):\n",
        "    random.seed(seed)\n",
        "    os.environ['PYTHONHASHSEED'] = str(seed)\n",
        "    np.random.seed(seed)\n",
        "\n",
        "seed_everything(0)"
      ],
      "metadata": {
        "id": "H6YMknrjOAqf"
      },
      "execution_count": 1407,
      "outputs": []
    },
    {
      "cell_type": "markdown",
      "source": [
        "# Подгружаем модели и обработанные тестовые данные"
      ],
      "metadata": {
        "id": "tX2Ld_nkQ3y-"
      }
    },
    {
      "cell_type": "code",
      "source": [
        "import pickle"
      ],
      "metadata": {
        "id": "SrrXxqVR1nn3"
      },
      "execution_count": 1408,
      "outputs": []
    },
    {
      "cell_type": "code",
      "source": [
        "best_models=[]"
      ],
      "metadata": {
        "id": "x72w17Pg1pga"
      },
      "execution_count": 1409,
      "outputs": []
    },
    {
      "cell_type": "code",
      "source": [
        "for i in range(3):\n",
        "  with open(f'model{i}.pkl','rb') as f:\n",
        "    best_models.append(pickle.load(f))\n",
        "\n",
        "test_data=np.loadtxt('test_data.txt')"
      ],
      "metadata": {
        "id": "OsLo04s51rSJ"
      },
      "execution_count": 1410,
      "outputs": []
    },
    {
      "cell_type": "code",
      "source": [
        "armatura=29\n",
        "inventory=0\n",
        "bal=0"
      ],
      "metadata": {
        "id": "c4HMg2zn2Fvn"
      },
      "execution_count": 1411,
      "outputs": []
    },
    {
      "cell_type": "code",
      "source": [
        "test_prices=pd.read_excel('test.xlsx')"
      ],
      "metadata": {
        "id": "enl3nUs82JxT"
      },
      "execution_count": 1412,
      "outputs": []
    },
    {
      "cell_type": "code",
      "source": [
        "best_zakup_possible=1174600"
      ],
      "metadata": {
        "id": "ZVU6hBf92MQ8"
      },
      "execution_count": 1413,
      "outputs": []
    },
    {
      "cell_type": "code",
      "source": [],
      "metadata": {
        "id": "_3fT5nYybFjA"
      },
      "execution_count": 1413,
      "outputs": []
    },
    {
      "cell_type": "code",
      "source": [
        "orig_signal_cnt = random.randint(0,6)\n",
        "\n",
        "signal_cnt=orig_signal_cnt\n",
        "signal=False\n",
        "\n",
        "buy_orders=[]\n",
        "\n",
        "enough=False\n",
        "\n",
        "for i,row in enumerate(test_data):\n",
        "\n",
        "    if i>28-inventory-1:\n",
        "      buy_order=0\n",
        "      enough=True # На складе достаточно арматуры, чтобы она дотянула до конца срока и не испортилась\n",
        "    else:\n",
        "      buy_order=1 # Стандартная закупка (если нет изменения тренда)\n",
        "\n",
        "    queue=[row[0]] # Первая цена для расчета\n",
        "\n",
        "    for model in best_models:\n",
        "        queue.append(model.predict(row)) # Предсказание следующих 3 цен моделью\n",
        "\n",
        "    down_m=np.mean([queue[1],queue[0]]) # Средний уровень первых 2х цен\n",
        "    up_m=np.mean([queue[3],queue[2]]) # Средний уровень вторых 2х цен\n",
        "\n",
        "    if up_m>down_m:\n",
        "        signal=True # Если 2ой средний уровень больше первого, то ставим сигнал и ждем его подтверждение\n",
        "\n",
        "    if signal:\n",
        "        signal_cnt-=1 # Счетчик сигнала\n",
        "\n",
        "    if signal_cnt==0:\n",
        "        if np.mean([queue[1]-queue[0],queue[2]-queue[1],queue[3]-queue[2]])>0 and not enough: # По истечению счетчика если в среднем модель предсказывает везде рост и арматура нужна, то закупаем максимальное кол-во, которое не испортится\n",
        "            buy_order=10-inventory\n",
        "            print('trend change')\n",
        "\n",
        "        signal=False\n",
        "        signal_cnt=orig_signal_cnt # Ресет сигнала\n",
        "\n",
        "\n",
        "    bal-=buy_order*test_prices['Цена на арматуру'].values[i]\n",
        "    inventory+=buy_order # Добавляем арматуру на склад и вычитаем деньги\n",
        "\n",
        "    buy_orders.append(buy_order)\n",
        "\n",
        "    buy_order=1\n",
        "    inventory-=1\n",
        "\n",
        "\n",
        "print(bal,inventory) #Баланс и кол-во арматуры на складе\n",
        "print(bal/best_zakup_possible) # Соотношение сколько потратили мы vs сколько потратил бы идеальный алгоритм"
      ],
      "metadata": {
        "colab": {
          "base_uri": "https://localhost:8080/"
        },
        "id": "fPmFikW92OTd",
        "outputId": "d247a248-baf2-4b0d-a710-3e66ae225c58"
      },
      "execution_count": 1414,
      "outputs": [
        {
          "output_type": "stream",
          "name": "stdout",
          "text": [
            "trend change\n",
            "-1177300 3\n",
            "-1.0022986548612294\n"
          ]
        }
      ]
    },
    {
      "cell_type": "code",
      "source": [],
      "metadata": {
        "id": "whde8bNvXekN"
      },
      "execution_count": 1414,
      "outputs": []
    },
    {
      "cell_type": "code",
      "source": [
        "buy_orders=buy_orders+[0,0,0]"
      ],
      "metadata": {
        "id": "WsCHpiAl2OUe"
      },
      "execution_count": 1415,
      "outputs": []
    },
    {
      "cell_type": "code",
      "source": [
        "sub=pd.read_excel('test.xlsx')\n",
        "sub['Объем']=buy_orders"
      ],
      "metadata": {
        "id": "S2fxcjiF2uhG"
      },
      "execution_count": 1416,
      "outputs": []
    },
    {
      "cell_type": "code",
      "source": [
        "sub.to_excel('submission.xlsx', index=False)"
      ],
      "metadata": {
        "id": "Z3aLNgGu26YU"
      },
      "execution_count": 1417,
      "outputs": []
    },
    {
      "cell_type": "code",
      "source": [
        "sub"
      ],
      "metadata": {
        "colab": {
          "base_uri": "https://localhost:8080/",
          "height": 927
        },
        "id": "lW9FMT_a82wd",
        "outputId": "e21a6f88-23b1-4cbd-90a5-fbfa6d73dba8"
      },
      "execution_count": 1418,
      "outputs": [
        {
          "output_type": "execute_result",
          "data": {
            "text/plain": [
              "           dt  Цена на арматуру  Объем\n",
              "0  2022-09-05             46000      1\n",
              "1  2022-09-12             46000      1\n",
              "2  2022-09-19             46000      1\n",
              "3  2022-09-26             45500      1\n",
              "4  2022-10-03             45500      1\n",
              "5  2022-10-10             45000      1\n",
              "6  2022-10-17             44000      1\n",
              "7  2022-10-24             43000      1\n",
              "8  2022-10-31             42000      1\n",
              "9  2022-11-07             41500      1\n",
              "10 2022-11-14             41000      1\n",
              "11 2022-11-21             40000     10\n",
              "12 2022-11-28             40000      1\n",
              "13 2022-12-05             40500      1\n",
              "14 2022-12-12             41700      1\n",
              "15 2022-12-19             41700      1\n",
              "16 2022-12-26             42500      1\n",
              "17 2023-01-02             42700      1\n",
              "18 2023-01-09             42700      1\n",
              "19 2023-01-16             42700      0\n",
              "20 2023-01-23             42800      0\n",
              "21 2023-01-30             42800      0\n",
              "22 2023-02-06             44500      0\n",
              "23 2023-02-13             44500      0\n",
              "24 2023-02-20             46000      0\n",
              "25 2023-02-27             49200      0\n",
              "26 2023-03-06             53700      0\n",
              "27 2023-03-13             55500      0"
            ],
            "text/html": [
              "\n",
              "  <div id=\"df-ac6b378c-62d5-4078-87af-9cf1a64044af\">\n",
              "    <div class=\"colab-df-container\">\n",
              "      <div>\n",
              "<style scoped>\n",
              "    .dataframe tbody tr th:only-of-type {\n",
              "        vertical-align: middle;\n",
              "    }\n",
              "\n",
              "    .dataframe tbody tr th {\n",
              "        vertical-align: top;\n",
              "    }\n",
              "\n",
              "    .dataframe thead th {\n",
              "        text-align: right;\n",
              "    }\n",
              "</style>\n",
              "<table border=\"1\" class=\"dataframe\">\n",
              "  <thead>\n",
              "    <tr style=\"text-align: right;\">\n",
              "      <th></th>\n",
              "      <th>dt</th>\n",
              "      <th>Цена на арматуру</th>\n",
              "      <th>Объем</th>\n",
              "    </tr>\n",
              "  </thead>\n",
              "  <tbody>\n",
              "    <tr>\n",
              "      <th>0</th>\n",
              "      <td>2022-09-05</td>\n",
              "      <td>46000</td>\n",
              "      <td>1</td>\n",
              "    </tr>\n",
              "    <tr>\n",
              "      <th>1</th>\n",
              "      <td>2022-09-12</td>\n",
              "      <td>46000</td>\n",
              "      <td>1</td>\n",
              "    </tr>\n",
              "    <tr>\n",
              "      <th>2</th>\n",
              "      <td>2022-09-19</td>\n",
              "      <td>46000</td>\n",
              "      <td>1</td>\n",
              "    </tr>\n",
              "    <tr>\n",
              "      <th>3</th>\n",
              "      <td>2022-09-26</td>\n",
              "      <td>45500</td>\n",
              "      <td>1</td>\n",
              "    </tr>\n",
              "    <tr>\n",
              "      <th>4</th>\n",
              "      <td>2022-10-03</td>\n",
              "      <td>45500</td>\n",
              "      <td>1</td>\n",
              "    </tr>\n",
              "    <tr>\n",
              "      <th>5</th>\n",
              "      <td>2022-10-10</td>\n",
              "      <td>45000</td>\n",
              "      <td>1</td>\n",
              "    </tr>\n",
              "    <tr>\n",
              "      <th>6</th>\n",
              "      <td>2022-10-17</td>\n",
              "      <td>44000</td>\n",
              "      <td>1</td>\n",
              "    </tr>\n",
              "    <tr>\n",
              "      <th>7</th>\n",
              "      <td>2022-10-24</td>\n",
              "      <td>43000</td>\n",
              "      <td>1</td>\n",
              "    </tr>\n",
              "    <tr>\n",
              "      <th>8</th>\n",
              "      <td>2022-10-31</td>\n",
              "      <td>42000</td>\n",
              "      <td>1</td>\n",
              "    </tr>\n",
              "    <tr>\n",
              "      <th>9</th>\n",
              "      <td>2022-11-07</td>\n",
              "      <td>41500</td>\n",
              "      <td>1</td>\n",
              "    </tr>\n",
              "    <tr>\n",
              "      <th>10</th>\n",
              "      <td>2022-11-14</td>\n",
              "      <td>41000</td>\n",
              "      <td>1</td>\n",
              "    </tr>\n",
              "    <tr>\n",
              "      <th>11</th>\n",
              "      <td>2022-11-21</td>\n",
              "      <td>40000</td>\n",
              "      <td>10</td>\n",
              "    </tr>\n",
              "    <tr>\n",
              "      <th>12</th>\n",
              "      <td>2022-11-28</td>\n",
              "      <td>40000</td>\n",
              "      <td>1</td>\n",
              "    </tr>\n",
              "    <tr>\n",
              "      <th>13</th>\n",
              "      <td>2022-12-05</td>\n",
              "      <td>40500</td>\n",
              "      <td>1</td>\n",
              "    </tr>\n",
              "    <tr>\n",
              "      <th>14</th>\n",
              "      <td>2022-12-12</td>\n",
              "      <td>41700</td>\n",
              "      <td>1</td>\n",
              "    </tr>\n",
              "    <tr>\n",
              "      <th>15</th>\n",
              "      <td>2022-12-19</td>\n",
              "      <td>41700</td>\n",
              "      <td>1</td>\n",
              "    </tr>\n",
              "    <tr>\n",
              "      <th>16</th>\n",
              "      <td>2022-12-26</td>\n",
              "      <td>42500</td>\n",
              "      <td>1</td>\n",
              "    </tr>\n",
              "    <tr>\n",
              "      <th>17</th>\n",
              "      <td>2023-01-02</td>\n",
              "      <td>42700</td>\n",
              "      <td>1</td>\n",
              "    </tr>\n",
              "    <tr>\n",
              "      <th>18</th>\n",
              "      <td>2023-01-09</td>\n",
              "      <td>42700</td>\n",
              "      <td>1</td>\n",
              "    </tr>\n",
              "    <tr>\n",
              "      <th>19</th>\n",
              "      <td>2023-01-16</td>\n",
              "      <td>42700</td>\n",
              "      <td>0</td>\n",
              "    </tr>\n",
              "    <tr>\n",
              "      <th>20</th>\n",
              "      <td>2023-01-23</td>\n",
              "      <td>42800</td>\n",
              "      <td>0</td>\n",
              "    </tr>\n",
              "    <tr>\n",
              "      <th>21</th>\n",
              "      <td>2023-01-30</td>\n",
              "      <td>42800</td>\n",
              "      <td>0</td>\n",
              "    </tr>\n",
              "    <tr>\n",
              "      <th>22</th>\n",
              "      <td>2023-02-06</td>\n",
              "      <td>44500</td>\n",
              "      <td>0</td>\n",
              "    </tr>\n",
              "    <tr>\n",
              "      <th>23</th>\n",
              "      <td>2023-02-13</td>\n",
              "      <td>44500</td>\n",
              "      <td>0</td>\n",
              "    </tr>\n",
              "    <tr>\n",
              "      <th>24</th>\n",
              "      <td>2023-02-20</td>\n",
              "      <td>46000</td>\n",
              "      <td>0</td>\n",
              "    </tr>\n",
              "    <tr>\n",
              "      <th>25</th>\n",
              "      <td>2023-02-27</td>\n",
              "      <td>49200</td>\n",
              "      <td>0</td>\n",
              "    </tr>\n",
              "    <tr>\n",
              "      <th>26</th>\n",
              "      <td>2023-03-06</td>\n",
              "      <td>53700</td>\n",
              "      <td>0</td>\n",
              "    </tr>\n",
              "    <tr>\n",
              "      <th>27</th>\n",
              "      <td>2023-03-13</td>\n",
              "      <td>55500</td>\n",
              "      <td>0</td>\n",
              "    </tr>\n",
              "  </tbody>\n",
              "</table>\n",
              "</div>\n",
              "      <button class=\"colab-df-convert\" onclick=\"convertToInteractive('df-ac6b378c-62d5-4078-87af-9cf1a64044af')\"\n",
              "              title=\"Convert this dataframe to an interactive table.\"\n",
              "              style=\"display:none;\">\n",
              "        \n",
              "  <svg xmlns=\"http://www.w3.org/2000/svg\" height=\"24px\"viewBox=\"0 0 24 24\"\n",
              "       width=\"24px\">\n",
              "    <path d=\"M0 0h24v24H0V0z\" fill=\"none\"/>\n",
              "    <path d=\"M18.56 5.44l.94 2.06.94-2.06 2.06-.94-2.06-.94-.94-2.06-.94 2.06-2.06.94zm-11 1L8.5 8.5l.94-2.06 2.06-.94-2.06-.94L8.5 2.5l-.94 2.06-2.06.94zm10 10l.94 2.06.94-2.06 2.06-.94-2.06-.94-.94-2.06-.94 2.06-2.06.94z\"/><path d=\"M17.41 7.96l-1.37-1.37c-.4-.4-.92-.59-1.43-.59-.52 0-1.04.2-1.43.59L10.3 9.45l-7.72 7.72c-.78.78-.78 2.05 0 2.83L4 21.41c.39.39.9.59 1.41.59.51 0 1.02-.2 1.41-.59l7.78-7.78 2.81-2.81c.8-.78.8-2.07 0-2.86zM5.41 20L4 18.59l7.72-7.72 1.47 1.35L5.41 20z\"/>\n",
              "  </svg>\n",
              "      </button>\n",
              "      \n",
              "  <style>\n",
              "    .colab-df-container {\n",
              "      display:flex;\n",
              "      flex-wrap:wrap;\n",
              "      gap: 12px;\n",
              "    }\n",
              "\n",
              "    .colab-df-convert {\n",
              "      background-color: #E8F0FE;\n",
              "      border: none;\n",
              "      border-radius: 50%;\n",
              "      cursor: pointer;\n",
              "      display: none;\n",
              "      fill: #1967D2;\n",
              "      height: 32px;\n",
              "      padding: 0 0 0 0;\n",
              "      width: 32px;\n",
              "    }\n",
              "\n",
              "    .colab-df-convert:hover {\n",
              "      background-color: #E2EBFA;\n",
              "      box-shadow: 0px 1px 2px rgba(60, 64, 67, 0.3), 0px 1px 3px 1px rgba(60, 64, 67, 0.15);\n",
              "      fill: #174EA6;\n",
              "    }\n",
              "\n",
              "    [theme=dark] .colab-df-convert {\n",
              "      background-color: #3B4455;\n",
              "      fill: #D2E3FC;\n",
              "    }\n",
              "\n",
              "    [theme=dark] .colab-df-convert:hover {\n",
              "      background-color: #434B5C;\n",
              "      box-shadow: 0px 1px 3px 1px rgba(0, 0, 0, 0.15);\n",
              "      filter: drop-shadow(0px 1px 2px rgba(0, 0, 0, 0.3));\n",
              "      fill: #FFFFFF;\n",
              "    }\n",
              "  </style>\n",
              "\n",
              "      <script>\n",
              "        const buttonEl =\n",
              "          document.querySelector('#df-ac6b378c-62d5-4078-87af-9cf1a64044af button.colab-df-convert');\n",
              "        buttonEl.style.display =\n",
              "          google.colab.kernel.accessAllowed ? 'block' : 'none';\n",
              "\n",
              "        async function convertToInteractive(key) {\n",
              "          const element = document.querySelector('#df-ac6b378c-62d5-4078-87af-9cf1a64044af');\n",
              "          const dataTable =\n",
              "            await google.colab.kernel.invokeFunction('convertToInteractive',\n",
              "                                                     [key], {});\n",
              "          if (!dataTable) return;\n",
              "\n",
              "          const docLinkHtml = 'Like what you see? Visit the ' +\n",
              "            '<a target=\"_blank\" href=https://colab.research.google.com/notebooks/data_table.ipynb>data table notebook</a>'\n",
              "            + ' to learn more about interactive tables.';\n",
              "          element.innerHTML = '';\n",
              "          dataTable['output_type'] = 'display_data';\n",
              "          await google.colab.output.renderOutput(dataTable, element);\n",
              "          const docLink = document.createElement('div');\n",
              "          docLink.innerHTML = docLinkHtml;\n",
              "          element.appendChild(docLink);\n",
              "        }\n",
              "      </script>\n",
              "    </div>\n",
              "  </div>\n",
              "  "
            ]
          },
          "metadata": {},
          "execution_count": 1418
        }
      ]
    }
  ]
}