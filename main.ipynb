{
  "nbformat": 4,
  "nbformat_minor": 0,
  "metadata": {
    "colab": {
      "provenance": []
    },
    "kernelspec": {
      "name": "python3",
      "display_name": "Python 3"
    },
    "language_info": {
      "name": "python"
    }
  },
  "cells": [
    {
      "cell_type": "code",
      "execution_count": 863,
      "metadata": {
        "id": "S8YB8S4M1kCI"
      },
      "outputs": [],
      "source": [
        "#!unzip \"/content/drive/MyDrive/train_dataset_Самолет2.zip\" -d \"/content/\""
      ]
    },
    {
      "cell_type": "code",
      "source": [
        "!pip install catboost"
      ],
      "metadata": {
        "id": "wEeNrHOD7Rbg"
      },
      "execution_count": 864,
      "outputs": []
    },
    {
      "cell_type": "code",
      "source": [
        "import pandas as pd\n",
        "import numpy as np\n",
        "import random,os"
      ],
      "metadata": {
        "id": "GB1iF7bv63Ga"
      },
      "execution_count": 865,
      "outputs": []
    },
    {
      "cell_type": "code",
      "source": [
        "def seed_everything(seed: int):\n",
        "    random.seed(seed)\n",
        "    os.environ['PYTHONHASHSEED'] = str(seed)\n",
        "    np.random.seed(seed)\n",
        "\n",
        "seed_everything(0)"
      ],
      "metadata": {
        "id": "H6YMknrjOAqf"
      },
      "execution_count": 866,
      "outputs": []
    },
    {
      "cell_type": "code",
      "source": [
        "import pickle"
      ],
      "metadata": {
        "id": "SrrXxqVR1nn3"
      },
      "execution_count": 867,
      "outputs": []
    },
    {
      "cell_type": "code",
      "source": [
        "best_models=[]"
      ],
      "metadata": {
        "id": "x72w17Pg1pga"
      },
      "execution_count": 868,
      "outputs": []
    },
    {
      "cell_type": "code",
      "source": [
        "for i in range(3):\n",
        "  with open(f'model{i}.pkl','rb') as f:\n",
        "    best_models.append(pickle.load(f))\n",
        "\n",
        "test_data=np.loadtxt('test_data.txt')"
      ],
      "metadata": {
        "id": "OsLo04s51rSJ"
      },
      "execution_count": 869,
      "outputs": []
    },
    {
      "cell_type": "code",
      "source": [
        "armatura=29\n",
        "inventory=0\n",
        "bal=0"
      ],
      "metadata": {
        "id": "c4HMg2zn2Fvn"
      },
      "execution_count": 870,
      "outputs": []
    },
    {
      "cell_type": "code",
      "source": [
        "test_prices=pd.read_excel('test.xlsx')[:-3]\n",
        "len(test_prices)"
      ],
      "metadata": {
        "colab": {
          "base_uri": "https://localhost:8080/"
        },
        "id": "enl3nUs82JxT",
        "outputId": "59c61134-0ddc-4bfb-a2e8-ca56f8985ff2"
      },
      "execution_count": 871,
      "outputs": [
        {
          "output_type": "execute_result",
          "data": {
            "text/plain": [
              "25"
            ]
          },
          "metadata": {},
          "execution_count": 871
        }
      ]
    },
    {
      "cell_type": "code",
      "source": [
        "len(test_data)"
      ],
      "metadata": {
        "colab": {
          "base_uri": "https://localhost:8080/"
        },
        "id": "hrDQM7te8Li9",
        "outputId": "21ba5915-366e-4929-bed5-b7a2fbcd6324"
      },
      "execution_count": 872,
      "outputs": [
        {
          "output_type": "execute_result",
          "data": {
            "text/plain": [
              "25"
            ]
          },
          "metadata": {},
          "execution_count": 872
        }
      ]
    },
    {
      "cell_type": "code",
      "source": [
        "best_zakup=1174600"
      ],
      "metadata": {
        "id": "ZVU6hBf92MQ8"
      },
      "execution_count": 873,
      "outputs": []
    },
    {
      "cell_type": "code",
      "source": [
        "signal_cnt=random.randint(0,6)\n",
        "signal=False\n",
        "zakups=[]\n",
        "enough=False\n",
        "trend=False\n",
        "for i,row in enumerate(test_data):\n",
        "    trend=False\n",
        "    if i>29-inventory-1:\n",
        "      zakup=0\n",
        "      enough=True\n",
        "    else:\n",
        "      zakup=1\n",
        "    queue=[row[0]]\n",
        "    for model in best_models:\n",
        "        queue.append(model.predict(row))\n",
        "    down_m=np.mean([queue[1],queue[0]])\n",
        "    up_m=np.mean([queue[3],queue[2]])\n",
        "\n",
        "    if up_m>down_m:\n",
        "        signal=True\n",
        "        print('signal')\n",
        "    if signal:\n",
        "        signal_cnt-=1\n",
        "\n",
        "    if signal_cnt==0:\n",
        "        if np.mean([queue[1]-queue[0],queue[2]-queue[1],queue[3]-queue[2]])>0 and not enough:\n",
        "            zakup=10-inventory\n",
        "            print('trend change')\n",
        "        signal=False\n",
        "        signal_cnt=6\n",
        "\n",
        "\n",
        "    bal-=zakup*test_prices['Цена на арматуру'].values[i]\n",
        "    inventory+=zakup\n",
        "\n",
        "    zakups.append(zakup)\n",
        "    zakup=1\n",
        "    inventory-=1\n",
        "    print(down_m,up_m,np.mean([queue[1]-queue[0],queue[2]-queue[1],queue[3]-queue[2]]),inventory,zakup,test_prices['Цена на арматуру'].values[i],enough,signal_cnt)\n",
        "print(bal,inventory)\n",
        "print(bal/best_zakup)"
      ],
      "metadata": {
        "colab": {
          "base_uri": "https://localhost:8080/"
        },
        "id": "fPmFikW92OTd",
        "outputId": "8bf99d41-2797-46d6-a4de-9210a49d9d2e"
      },
      "execution_count": 874,
      "outputs": [
        {
          "output_type": "stream",
          "name": "stdout",
          "text": [
            "signal\n",
            "0.4606517857375576 0.4945646827285331 -0.003232871305337596 0 1 46000 False 5\n",
            "0.4189539970814359 0.4051996214326815 -0.034152962065324144 0 1 46000 False 4\n",
            "0.38768808227262985 0.3708284818527695 -0.030831772508830218 0 1 46000 False 3\n",
            "0.37008754762441715 0.32125233190641633 -0.04207386311666019 0 1 45500 False 2\n",
            "signal\n",
            "0.3670503272159205 0.3699030604079161 -0.022059669743024295 0 1 45500 False 1\n",
            "signal\n",
            "0.349763545889592 0.38365509815778653 -0.007647670282079466 0 1 45000 False 6\n",
            "signal\n",
            "0.30187271038950825 0.40643512637559287 0.02899012486039772 0 1 44000 False 5\n",
            "signal\n",
            "0.2901494285574112 0.4375144013729092 0.06224077588491452 0 1 43000 False 4\n",
            "signal\n",
            "0.26008032910773654 0.38359454106493507 0.08256668236401296 0 1 42000 False 3\n",
            "signal\n",
            "0.1651543141525899 0.2554060162075408 0.05201288363812345 0 1 41500 False 2\n",
            "signal\n",
            "0.10956409586746454 0.287631805728243 0.08253640817955409 0 1 41000 False 1\n",
            "signal\n",
            "trend change\n",
            "0.06464702992664191 0.2587735212233868 0.0910850270429215 9 1 40000 False 6\n",
            "signal\n",
            "0.0669461793152047 0.20236619573505107 0.06291849184851551 9 1 40000 False 5\n",
            "0.06333072500150208 0.06222923495169792 -0.00020380351370099617 9 1 40500 False 4\n",
            "0.13365676278837882 0.10291455137418061 -0.025678868708468434 9 1 41700 False 3\n",
            "0.13378654281964053 0.06202431208179847 -0.04172292373947945 9 1 41700 False 2\n",
            "0.16760206349650483 0.04449414783372818 -0.05415331911875613 9 1 42500 False 1\n",
            "0.20313845610616632 0.10174386762200127 -0.048309314499242285 9 1 42700 False 6\n",
            "signal\n",
            "0.31738935014415 0.3504796997371472 0.02224727708554175 9 1 42700 False 5\n",
            "signal\n",
            "0.36479887978332926 0.5596702358157128 0.09880812564355324 9 1 42700 False 4\n",
            "signal\n",
            "0.36801677343646455 0.6207300126652134 0.1286565438234912 8 1 42800 True 3\n",
            "signal\n",
            "0.47010675810312436 0.8126382138211197 0.18541243699866874 7 1 42800 True 2\n",
            "signal\n",
            "0.6340416861271331 0.9230104703615853 0.18740937325700444 6 1 44500 True 1\n",
            "signal\n",
            "0.6514186047574663 0.9739323269974188 0.2068020005023241 5 1 44500 True 6\n",
            "signal\n",
            "0.7155698092583513 0.9821513063209963 0.1729841600727612 4 1 46000 True 5\n",
            "-1220000 4\n",
            "-1.0386514558147455\n"
          ]
        }
      ]
    },
    {
      "cell_type": "code",
      "source": [
        "zakups=zakups+[0,0,0]"
      ],
      "metadata": {
        "id": "WsCHpiAl2OUe"
      },
      "execution_count": 876,
      "outputs": []
    },
    {
      "cell_type": "code",
      "source": [
        "sub=pd.read_excel('test.xlsx')\n",
        "sub['Объем']=zakups"
      ],
      "metadata": {
        "id": "S2fxcjiF2uhG"
      },
      "execution_count": 878,
      "outputs": []
    },
    {
      "cell_type": "code",
      "source": [
        "sub.to_excel('submission.xlsx', index=False)"
      ],
      "metadata": {
        "id": "Z3aLNgGu26YU"
      },
      "execution_count": 879,
      "outputs": []
    },
    {
      "cell_type": "code",
      "source": [
        "sub"
      ],
      "metadata": {
        "colab": {
          "base_uri": "https://localhost:8080/",
          "height": 927
        },
        "id": "lW9FMT_a82wd",
        "outputId": "92befc0d-85ee-43d2-c202-0614afe7ec81"
      },
      "execution_count": 880,
      "outputs": [
        {
          "output_type": "execute_result",
          "data": {
            "text/plain": [
              "           dt  Цена на арматуру  Объем\n",
              "0  2022-09-05             46000      1\n",
              "1  2022-09-12             46000      1\n",
              "2  2022-09-19             46000      1\n",
              "3  2022-09-26             45500      1\n",
              "4  2022-10-03             45500      1\n",
              "5  2022-10-10             45000      1\n",
              "6  2022-10-17             44000      1\n",
              "7  2022-10-24             43000      1\n",
              "8  2022-10-31             42000      1\n",
              "9  2022-11-07             41500      1\n",
              "10 2022-11-14             41000      1\n",
              "11 2022-11-21             40000     10\n",
              "12 2022-11-28             40000      1\n",
              "13 2022-12-05             40500      1\n",
              "14 2022-12-12             41700      1\n",
              "15 2022-12-19             41700      1\n",
              "16 2022-12-26             42500      1\n",
              "17 2023-01-02             42700      1\n",
              "18 2023-01-09             42700      1\n",
              "19 2023-01-16             42700      1\n",
              "20 2023-01-23             42800      0\n",
              "21 2023-01-30             42800      0\n",
              "22 2023-02-06             44500      0\n",
              "23 2023-02-13             44500      0\n",
              "24 2023-02-20             46000      0\n",
              "25 2023-02-27             49200      0\n",
              "26 2023-03-06             53700      0\n",
              "27 2023-03-13             55500      0"
            ],
            "text/html": [
              "\n",
              "  <div id=\"df-380c522b-e48a-4df9-973d-172f27472a87\">\n",
              "    <div class=\"colab-df-container\">\n",
              "      <div>\n",
              "<style scoped>\n",
              "    .dataframe tbody tr th:only-of-type {\n",
              "        vertical-align: middle;\n",
              "    }\n",
              "\n",
              "    .dataframe tbody tr th {\n",
              "        vertical-align: top;\n",
              "    }\n",
              "\n",
              "    .dataframe thead th {\n",
              "        text-align: right;\n",
              "    }\n",
              "</style>\n",
              "<table border=\"1\" class=\"dataframe\">\n",
              "  <thead>\n",
              "    <tr style=\"text-align: right;\">\n",
              "      <th></th>\n",
              "      <th>dt</th>\n",
              "      <th>Цена на арматуру</th>\n",
              "      <th>Объем</th>\n",
              "    </tr>\n",
              "  </thead>\n",
              "  <tbody>\n",
              "    <tr>\n",
              "      <th>0</th>\n",
              "      <td>2022-09-05</td>\n",
              "      <td>46000</td>\n",
              "      <td>1</td>\n",
              "    </tr>\n",
              "    <tr>\n",
              "      <th>1</th>\n",
              "      <td>2022-09-12</td>\n",
              "      <td>46000</td>\n",
              "      <td>1</td>\n",
              "    </tr>\n",
              "    <tr>\n",
              "      <th>2</th>\n",
              "      <td>2022-09-19</td>\n",
              "      <td>46000</td>\n",
              "      <td>1</td>\n",
              "    </tr>\n",
              "    <tr>\n",
              "      <th>3</th>\n",
              "      <td>2022-09-26</td>\n",
              "      <td>45500</td>\n",
              "      <td>1</td>\n",
              "    </tr>\n",
              "    <tr>\n",
              "      <th>4</th>\n",
              "      <td>2022-10-03</td>\n",
              "      <td>45500</td>\n",
              "      <td>1</td>\n",
              "    </tr>\n",
              "    <tr>\n",
              "      <th>5</th>\n",
              "      <td>2022-10-10</td>\n",
              "      <td>45000</td>\n",
              "      <td>1</td>\n",
              "    </tr>\n",
              "    <tr>\n",
              "      <th>6</th>\n",
              "      <td>2022-10-17</td>\n",
              "      <td>44000</td>\n",
              "      <td>1</td>\n",
              "    </tr>\n",
              "    <tr>\n",
              "      <th>7</th>\n",
              "      <td>2022-10-24</td>\n",
              "      <td>43000</td>\n",
              "      <td>1</td>\n",
              "    </tr>\n",
              "    <tr>\n",
              "      <th>8</th>\n",
              "      <td>2022-10-31</td>\n",
              "      <td>42000</td>\n",
              "      <td>1</td>\n",
              "    </tr>\n",
              "    <tr>\n",
              "      <th>9</th>\n",
              "      <td>2022-11-07</td>\n",
              "      <td>41500</td>\n",
              "      <td>1</td>\n",
              "    </tr>\n",
              "    <tr>\n",
              "      <th>10</th>\n",
              "      <td>2022-11-14</td>\n",
              "      <td>41000</td>\n",
              "      <td>1</td>\n",
              "    </tr>\n",
              "    <tr>\n",
              "      <th>11</th>\n",
              "      <td>2022-11-21</td>\n",
              "      <td>40000</td>\n",
              "      <td>10</td>\n",
              "    </tr>\n",
              "    <tr>\n",
              "      <th>12</th>\n",
              "      <td>2022-11-28</td>\n",
              "      <td>40000</td>\n",
              "      <td>1</td>\n",
              "    </tr>\n",
              "    <tr>\n",
              "      <th>13</th>\n",
              "      <td>2022-12-05</td>\n",
              "      <td>40500</td>\n",
              "      <td>1</td>\n",
              "    </tr>\n",
              "    <tr>\n",
              "      <th>14</th>\n",
              "      <td>2022-12-12</td>\n",
              "      <td>41700</td>\n",
              "      <td>1</td>\n",
              "    </tr>\n",
              "    <tr>\n",
              "      <th>15</th>\n",
              "      <td>2022-12-19</td>\n",
              "      <td>41700</td>\n",
              "      <td>1</td>\n",
              "    </tr>\n",
              "    <tr>\n",
              "      <th>16</th>\n",
              "      <td>2022-12-26</td>\n",
              "      <td>42500</td>\n",
              "      <td>1</td>\n",
              "    </tr>\n",
              "    <tr>\n",
              "      <th>17</th>\n",
              "      <td>2023-01-02</td>\n",
              "      <td>42700</td>\n",
              "      <td>1</td>\n",
              "    </tr>\n",
              "    <tr>\n",
              "      <th>18</th>\n",
              "      <td>2023-01-09</td>\n",
              "      <td>42700</td>\n",
              "      <td>1</td>\n",
              "    </tr>\n",
              "    <tr>\n",
              "      <th>19</th>\n",
              "      <td>2023-01-16</td>\n",
              "      <td>42700</td>\n",
              "      <td>1</td>\n",
              "    </tr>\n",
              "    <tr>\n",
              "      <th>20</th>\n",
              "      <td>2023-01-23</td>\n",
              "      <td>42800</td>\n",
              "      <td>0</td>\n",
              "    </tr>\n",
              "    <tr>\n",
              "      <th>21</th>\n",
              "      <td>2023-01-30</td>\n",
              "      <td>42800</td>\n",
              "      <td>0</td>\n",
              "    </tr>\n",
              "    <tr>\n",
              "      <th>22</th>\n",
              "      <td>2023-02-06</td>\n",
              "      <td>44500</td>\n",
              "      <td>0</td>\n",
              "    </tr>\n",
              "    <tr>\n",
              "      <th>23</th>\n",
              "      <td>2023-02-13</td>\n",
              "      <td>44500</td>\n",
              "      <td>0</td>\n",
              "    </tr>\n",
              "    <tr>\n",
              "      <th>24</th>\n",
              "      <td>2023-02-20</td>\n",
              "      <td>46000</td>\n",
              "      <td>0</td>\n",
              "    </tr>\n",
              "    <tr>\n",
              "      <th>25</th>\n",
              "      <td>2023-02-27</td>\n",
              "      <td>49200</td>\n",
              "      <td>0</td>\n",
              "    </tr>\n",
              "    <tr>\n",
              "      <th>26</th>\n",
              "      <td>2023-03-06</td>\n",
              "      <td>53700</td>\n",
              "      <td>0</td>\n",
              "    </tr>\n",
              "    <tr>\n",
              "      <th>27</th>\n",
              "      <td>2023-03-13</td>\n",
              "      <td>55500</td>\n",
              "      <td>0</td>\n",
              "    </tr>\n",
              "  </tbody>\n",
              "</table>\n",
              "</div>\n",
              "      <button class=\"colab-df-convert\" onclick=\"convertToInteractive('df-380c522b-e48a-4df9-973d-172f27472a87')\"\n",
              "              title=\"Convert this dataframe to an interactive table.\"\n",
              "              style=\"display:none;\">\n",
              "        \n",
              "  <svg xmlns=\"http://www.w3.org/2000/svg\" height=\"24px\"viewBox=\"0 0 24 24\"\n",
              "       width=\"24px\">\n",
              "    <path d=\"M0 0h24v24H0V0z\" fill=\"none\"/>\n",
              "    <path d=\"M18.56 5.44l.94 2.06.94-2.06 2.06-.94-2.06-.94-.94-2.06-.94 2.06-2.06.94zm-11 1L8.5 8.5l.94-2.06 2.06-.94-2.06-.94L8.5 2.5l-.94 2.06-2.06.94zm10 10l.94 2.06.94-2.06 2.06-.94-2.06-.94-.94-2.06-.94 2.06-2.06.94z\"/><path d=\"M17.41 7.96l-1.37-1.37c-.4-.4-.92-.59-1.43-.59-.52 0-1.04.2-1.43.59L10.3 9.45l-7.72 7.72c-.78.78-.78 2.05 0 2.83L4 21.41c.39.39.9.59 1.41.59.51 0 1.02-.2 1.41-.59l7.78-7.78 2.81-2.81c.8-.78.8-2.07 0-2.86zM5.41 20L4 18.59l7.72-7.72 1.47 1.35L5.41 20z\"/>\n",
              "  </svg>\n",
              "      </button>\n",
              "      \n",
              "  <style>\n",
              "    .colab-df-container {\n",
              "      display:flex;\n",
              "      flex-wrap:wrap;\n",
              "      gap: 12px;\n",
              "    }\n",
              "\n",
              "    .colab-df-convert {\n",
              "      background-color: #E8F0FE;\n",
              "      border: none;\n",
              "      border-radius: 50%;\n",
              "      cursor: pointer;\n",
              "      display: none;\n",
              "      fill: #1967D2;\n",
              "      height: 32px;\n",
              "      padding: 0 0 0 0;\n",
              "      width: 32px;\n",
              "    }\n",
              "\n",
              "    .colab-df-convert:hover {\n",
              "      background-color: #E2EBFA;\n",
              "      box-shadow: 0px 1px 2px rgba(60, 64, 67, 0.3), 0px 1px 3px 1px rgba(60, 64, 67, 0.15);\n",
              "      fill: #174EA6;\n",
              "    }\n",
              "\n",
              "    [theme=dark] .colab-df-convert {\n",
              "      background-color: #3B4455;\n",
              "      fill: #D2E3FC;\n",
              "    }\n",
              "\n",
              "    [theme=dark] .colab-df-convert:hover {\n",
              "      background-color: #434B5C;\n",
              "      box-shadow: 0px 1px 3px 1px rgba(0, 0, 0, 0.15);\n",
              "      filter: drop-shadow(0px 1px 2px rgba(0, 0, 0, 0.3));\n",
              "      fill: #FFFFFF;\n",
              "    }\n",
              "  </style>\n",
              "\n",
              "      <script>\n",
              "        const buttonEl =\n",
              "          document.querySelector('#df-380c522b-e48a-4df9-973d-172f27472a87 button.colab-df-convert');\n",
              "        buttonEl.style.display =\n",
              "          google.colab.kernel.accessAllowed ? 'block' : 'none';\n",
              "\n",
              "        async function convertToInteractive(key) {\n",
              "          const element = document.querySelector('#df-380c522b-e48a-4df9-973d-172f27472a87');\n",
              "          const dataTable =\n",
              "            await google.colab.kernel.invokeFunction('convertToInteractive',\n",
              "                                                     [key], {});\n",
              "          if (!dataTable) return;\n",
              "\n",
              "          const docLinkHtml = 'Like what you see? Visit the ' +\n",
              "            '<a target=\"_blank\" href=https://colab.research.google.com/notebooks/data_table.ipynb>data table notebook</a>'\n",
              "            + ' to learn more about interactive tables.';\n",
              "          element.innerHTML = '';\n",
              "          dataTable['output_type'] = 'display_data';\n",
              "          await google.colab.output.renderOutput(dataTable, element);\n",
              "          const docLink = document.createElement('div');\n",
              "          docLink.innerHTML = docLinkHtml;\n",
              "          element.appendChild(docLink);\n",
              "        }\n",
              "      </script>\n",
              "    </div>\n",
              "  </div>\n",
              "  "
            ]
          },
          "metadata": {},
          "execution_count": 880
        }
      ]
    }
  ]
}