{
  "cells": [
    {
      "cell_type": "code",
      "execution_count": 429,
      "id": "ef799c8d",
      "metadata": {
        "id": "ef799c8d"
      },
      "outputs": [],
      "source": [
        "#!unzip \"/content/drive/MyDrive/train_dataset_Самолет2.zip\" -d \"/content/\""
      ]
    },
    {
      "cell_type": "markdown",
      "source": [
        "# Подгружаем библиотеки\n"
      ],
      "metadata": {
        "id": "zeGOJcviUQtU"
      },
      "id": "zeGOJcviUQtU"
    },
    {
      "cell_type": "code",
      "execution_count": 430,
      "id": "8D9UG4XZMsN5",
      "metadata": {
        "colab": {
          "base_uri": "https://localhost:8080/"
        },
        "id": "8D9UG4XZMsN5",
        "outputId": "97c20d98-08ac-47a2-a0d4-444d397dc4f0"
      },
      "outputs": [
        {
          "output_type": "stream",
          "name": "stdout",
          "text": [
            "Looking in indexes: https://pypi.org/simple, https://us-python.pkg.dev/colab-wheels/public/simple/\n",
            "Requirement already satisfied: catboost in /usr/local/lib/python3.10/dist-packages (1.2)\n",
            "Requirement already satisfied: graphviz in /usr/local/lib/python3.10/dist-packages (from catboost) (0.20.1)\n",
            "Requirement already satisfied: matplotlib in /usr/local/lib/python3.10/dist-packages (from catboost) (3.7.1)\n",
            "Requirement already satisfied: numpy>=1.16.0 in /usr/local/lib/python3.10/dist-packages (from catboost) (1.22.4)\n",
            "Requirement already satisfied: pandas>=0.24 in /usr/local/lib/python3.10/dist-packages (from catboost) (1.5.3)\n",
            "Requirement already satisfied: scipy in /usr/local/lib/python3.10/dist-packages (from catboost) (1.10.1)\n",
            "Requirement already satisfied: plotly in /usr/local/lib/python3.10/dist-packages (from catboost) (5.13.1)\n",
            "Requirement already satisfied: six in /usr/local/lib/python3.10/dist-packages (from catboost) (1.16.0)\n",
            "Requirement already satisfied: python-dateutil>=2.8.1 in /usr/local/lib/python3.10/dist-packages (from pandas>=0.24->catboost) (2.8.2)\n",
            "Requirement already satisfied: pytz>=2020.1 in /usr/local/lib/python3.10/dist-packages (from pandas>=0.24->catboost) (2022.7.1)\n",
            "Requirement already satisfied: contourpy>=1.0.1 in /usr/local/lib/python3.10/dist-packages (from matplotlib->catboost) (1.1.0)\n",
            "Requirement already satisfied: cycler>=0.10 in /usr/local/lib/python3.10/dist-packages (from matplotlib->catboost) (0.11.0)\n",
            "Requirement already satisfied: fonttools>=4.22.0 in /usr/local/lib/python3.10/dist-packages (from matplotlib->catboost) (4.40.0)\n",
            "Requirement already satisfied: kiwisolver>=1.0.1 in /usr/local/lib/python3.10/dist-packages (from matplotlib->catboost) (1.4.4)\n",
            "Requirement already satisfied: packaging>=20.0 in /usr/local/lib/python3.10/dist-packages (from matplotlib->catboost) (23.1)\n",
            "Requirement already satisfied: pillow>=6.2.0 in /usr/local/lib/python3.10/dist-packages (from matplotlib->catboost) (8.4.0)\n",
            "Requirement already satisfied: pyparsing>=2.3.1 in /usr/local/lib/python3.10/dist-packages (from matplotlib->catboost) (3.1.0)\n",
            "Requirement already satisfied: tenacity>=6.2.0 in /usr/local/lib/python3.10/dist-packages (from plotly->catboost) (8.2.2)\n"
          ]
        }
      ],
      "source": [
        "!pip install catboost"
      ]
    },
    {
      "cell_type": "code",
      "execution_count": 431,
      "id": "3KTGP4boafJ8",
      "metadata": {
        "colab": {
          "base_uri": "https://localhost:8080/"
        },
        "id": "3KTGP4boafJ8",
        "outputId": "60b17af1-8673-4027-e966-2cf0e583941e"
      },
      "outputs": [
        {
          "output_type": "stream",
          "name": "stdout",
          "text": [
            "Looking in indexes: https://pypi.org/simple, https://us-python.pkg.dev/colab-wheels/public/simple/\n",
            "Requirement already satisfied: shap in /usr/local/lib/python3.10/dist-packages (0.41.0)\n",
            "Requirement already satisfied: numpy in /usr/local/lib/python3.10/dist-packages (from shap) (1.22.4)\n",
            "Requirement already satisfied: scipy in /usr/local/lib/python3.10/dist-packages (from shap) (1.10.1)\n",
            "Requirement already satisfied: scikit-learn in /usr/local/lib/python3.10/dist-packages (from shap) (1.2.2)\n",
            "Requirement already satisfied: pandas in /usr/local/lib/python3.10/dist-packages (from shap) (1.5.3)\n",
            "Requirement already satisfied: tqdm>4.25.0 in /usr/local/lib/python3.10/dist-packages (from shap) (4.65.0)\n",
            "Requirement already satisfied: packaging>20.9 in /usr/local/lib/python3.10/dist-packages (from shap) (23.1)\n",
            "Requirement already satisfied: slicer==0.0.7 in /usr/local/lib/python3.10/dist-packages (from shap) (0.0.7)\n",
            "Requirement already satisfied: numba in /usr/local/lib/python3.10/dist-packages (from shap) (0.56.4)\n",
            "Requirement already satisfied: cloudpickle in /usr/local/lib/python3.10/dist-packages (from shap) (2.2.1)\n",
            "Requirement already satisfied: llvmlite<0.40,>=0.39.0dev0 in /usr/local/lib/python3.10/dist-packages (from numba->shap) (0.39.1)\n",
            "Requirement already satisfied: setuptools in /usr/local/lib/python3.10/dist-packages (from numba->shap) (67.7.2)\n",
            "Requirement already satisfied: python-dateutil>=2.8.1 in /usr/local/lib/python3.10/dist-packages (from pandas->shap) (2.8.2)\n",
            "Requirement already satisfied: pytz>=2020.1 in /usr/local/lib/python3.10/dist-packages (from pandas->shap) (2022.7.1)\n",
            "Requirement already satisfied: joblib>=1.1.1 in /usr/local/lib/python3.10/dist-packages (from scikit-learn->shap) (1.2.0)\n",
            "Requirement already satisfied: threadpoolctl>=2.0.0 in /usr/local/lib/python3.10/dist-packages (from scikit-learn->shap) (3.1.0)\n",
            "Requirement already satisfied: six>=1.5 in /usr/local/lib/python3.10/dist-packages (from python-dateutil>=2.8.1->pandas->shap) (1.16.0)\n"
          ]
        }
      ],
      "source": [
        "!pip install shap"
      ]
    },
    {
      "cell_type": "code",
      "execution_count": 432,
      "id": "L3oTK1JvKGeq",
      "metadata": {
        "id": "L3oTK1JvKGeq"
      },
      "outputs": [],
      "source": [
        "import os\n",
        "import numpy as np\n",
        "import pandas as pd\n",
        "import matplotlib.pyplot as plt\n",
        "import seaborn as sns\n",
        "from datetime import datetime\n",
        "\n",
        "from sklearn.model_selection import KFold, TimeSeriesSplit\n",
        "from catboost import CatBoostRegressor\n",
        "from tqdm import tqdm\n",
        "from sklearn.metrics import log_loss, roc_auc_score, classification_report\n",
        "from sklearn.metrics import mean_squared_error, mean_absolute_error\n",
        "\n",
        "import shap\n",
        "\n",
        "import random, os\n"
      ]
    },
    {
      "cell_type": "markdown",
      "source": [
        "# Ставим сид"
      ],
      "metadata": {
        "id": "cWK830olUYJ3"
      },
      "id": "cWK830olUYJ3"
    },
    {
      "cell_type": "code",
      "source": [
        "def seed_everything(seed: int):\n",
        "    random.seed(seed)\n",
        "    os.environ['PYTHONHASHSEED'] = str(seed)\n",
        "    np.random.seed(seed)\n",
        "\n",
        "seed_everything(0)"
      ],
      "metadata": {
        "id": "k7jvqLfaKk60"
      },
      "id": "k7jvqLfaKk60",
      "execution_count": 433,
      "outputs": []
    },
    {
      "cell_type": "code",
      "execution_count": 434,
      "id": "8b1a7614",
      "metadata": {
        "id": "8b1a7614"
      },
      "outputs": [],
      "source": [
        "#os.chdir(r'D:\\!!ufa\\cp_s2')"
      ]
    },
    {
      "cell_type": "code",
      "execution_count": 435,
      "id": "5ef893e9",
      "metadata": {
        "id": "5ef893e9"
      },
      "outputs": [],
      "source": [
        "pd.options.display.max_columns=None"
      ]
    },
    {
      "cell_type": "code",
      "execution_count": 436,
      "id": "dea0e9f0",
      "metadata": {
        "id": "dea0e9f0"
      },
      "outputs": [],
      "source": [
        "test = pd.read_excel('test.xlsx')\n",
        "train = pd.read_excel('train.xlsx')"
      ]
    },
    {
      "cell_type": "markdown",
      "source": [
        "# Соединяем таблички"
      ],
      "metadata": {
        "id": "ltuJTW3AUeF7"
      },
      "id": "ltuJTW3AUeF7"
    },
    {
      "cell_type": "code",
      "execution_count": 437,
      "id": "28fc1217",
      "metadata": {
        "id": "28fc1217"
      },
      "outputs": [],
      "source": [
        "material_prices = pd.read_excel('Цены на сырье.xlsx')\n",
        "train=train.merge(material_prices, on='dt', how='left')\n",
        "test=test.merge(material_prices, on='dt', how='left')"
      ]
    },
    {
      "cell_type": "code",
      "execution_count": 438,
      "id": "127d5bbf",
      "metadata": {
        "id": "127d5bbf"
      },
      "outputs": [],
      "source": [
        "market_material = pd.read_excel('Данные рынка стройматериалов.xlsx')\n",
        "train=train.merge(market_material, on='dt', how='left')\n",
        "test=test.merge(market_material, on='dt', how='left')"
      ]
    },
    {
      "cell_type": "code",
      "execution_count": 439,
      "id": "9e6237a1",
      "metadata": {
        "colab": {
          "base_uri": "https://localhost:8080/",
          "height": 381
        },
        "id": "9e6237a1",
        "outputId": "4e299ac5-4045-412b-e4e2-ed652b28f42e",
        "scrolled": true
      },
      "outputs": [
        {
          "output_type": "execute_result",
          "data": {
            "text/plain": [
              "          dt  Цена на арматуру  \\\n",
              "0 2015-01-05             32900   \n",
              "1 2015-01-12             32500   \n",
              "2 2015-01-19             32000   \n",
              "\n",
              "   Концентрат коксующегося угля_Россия марка ОС FCA руб./т, без НДС  \\\n",
              "0                                                NaN                  \n",
              "1                                                NaN                  \n",
              "2                                                NaN                  \n",
              "\n",
              "   Лом_HMS 1/2 80:20, FOB EC Роттердам, $/т  \\\n",
              "0                                       NaN   \n",
              "1                                       NaN   \n",
              "2                                       NaN   \n",
              "\n",
              "   Лом_3А, РФ CPT ж/д Южный ФО, руб./т, без НДС  \\\n",
              "0                                           NaN   \n",
              "1                                           NaN   \n",
              "2                                           NaN   \n",
              "\n",
              "   Лом_3А, РФ CPT ж/д Сибирский ФО, руб./т, без НДС  \\\n",
              "0                                               NaN   \n",
              "1                                               NaN   \n",
              "2                                               NaN   \n",
              "\n",
              "   Лом_3А, РФ CPT ж/д Центральный ФО, руб./т, без НДС  \\\n",
              "0                                                NaN    \n",
              "1                                                NaN    \n",
              "2                                                NaN    \n",
              "\n",
              "   ЖРС_Китай Iron ore fines Fe 62%, CFR  Чугун_CFR Италия, $/т  \\\n",
              "0                                   NaN                    NaN   \n",
              "1                                   NaN                    NaN   \n",
              "2                                   NaN                    NaN   \n",
              "\n",
              "   Концентрат коксующегося угля_Россия марка КО FCA руб./т, без НДС  \\\n",
              "0                                                NaN                  \n",
              "1                                                NaN                  \n",
              "2                                                NaN                  \n",
              "\n",
              "   ЖРС_Российские окатыши Fe 62-65,5%, SiO2 5,8-8,65, DAP Забайкальск-Манжули, $/т  \\\n",
              "0                                                NaN                                 \n",
              "1                                                NaN                                 \n",
              "2                                                NaN                                 \n",
              "\n",
              "   Лом_3А, РФ CPT авто Центральный ФО, руб./т, без НДС  \\\n",
              "0                                                NaN     \n",
              "1                                                NaN     \n",
              "2                                                NaN     \n",
              "\n",
              "   Лом_3А, РФ CPT авто Уральский ФО, руб./т, без НДС  \\\n",
              "0                                                NaN   \n",
              "1                                                NaN   \n",
              "2                                                NaN   \n",
              "\n",
              "   Лом_HMS 1/2 80:20, FOB США Восток, $/т  Лом_3А, FOB РФ Черное море, $/т  \\\n",
              "0                                     NaN                              NaN   \n",
              "1                                     NaN                              NaN   \n",
              "2                                     NaN                              NaN   \n",
              "\n",
              "   Чугун_FOB Бразилия Север, $/т  \\\n",
              "0                            NaN   \n",
              "1                            NaN   \n",
              "2                            NaN   \n",
              "\n",
              "   Лом_3А, РФ CPT авто Южный ФО, руб./т, без НДС  \\\n",
              "0                                            NaN   \n",
              "1                                            NaN   \n",
              "2                                            NaN   \n",
              "\n",
              "   Лом_HMS 1/2 80:20, CFR ЮВА, $/т  \\\n",
              "0                              NaN   \n",
              "1                              NaN   \n",
              "2                              NaN   \n",
              "\n",
              "   Концентрат коксующегося угля_Россия марка КС FCA руб./т, без НДС  \\\n",
              "0                                                NaN                  \n",
              "1                                                NaN                  \n",
              "2                                                NaN                  \n",
              "\n",
              "   Лом_Б26 легированный (Ni 9,3%), РФ CPT, руб./т, без НДС  \\\n",
              "0                                                NaN         \n",
              "1                                                NaN         \n",
              "2                                                NaN         \n",
              "\n",
              "   ГБЖ_Россия, FCA руб./т, без НДС  \\\n",
              "0                              NaN   \n",
              "1                              NaN   \n",
              "2                              NaN   \n",
              "\n",
              "   Лом_3А, РФ FCA ж/д респ. Татарстан, руб./т, без НДС  \\\n",
              "0                                                NaN     \n",
              "1                                                NaN     \n",
              "2                                                NaN     \n",
              "\n",
              "   Чугун_FOB Бразилия Юг, $/т  \\\n",
              "0                         NaN   \n",
              "1                         NaN   \n",
              "2                         NaN   \n",
              "\n",
              "   ЖРС_Российский концентрат Fe 62,5-67,5%, SiO2 0,78-8,51, сухой вес, DAP Забайкальск-Манжули, $/т  \\\n",
              "0                                                NaN                                                  \n",
              "1                                                NaN                                                  \n",
              "2                                                NaN                                                  \n",
              "\n",
              "   Концентрат коксующегося угля_Россия марка К и смеси марок К, КО FCA руб./т, без НДС  \\\n",
              "0                                                NaN                                     \n",
              "1                                                NaN                                     \n",
              "2                                                NaN                                     \n",
              "\n",
              "   Чугун_FOB Россия Дальневосточные порты, $/т  \\\n",
              "0                                          NaN   \n",
              "1                                          NaN   \n",
              "2                                          NaN   \n",
              "\n",
              "   Кокс_Россия Урал Сибирь +25, FCA руб./т., без НДС  \\\n",
              "0                                                NaN   \n",
              "1                                                NaN   \n",
              "2                                                NaN   \n",
              "\n",
              "   Лом_3А, РФ FCA ж/д Московский регион, руб./т, без НДС  \\\n",
              "0                                                NaN       \n",
              "1                                                NaN       \n",
              "2                                                NaN       \n",
              "\n",
              "   Концентрат коксующегося угля_Россия марка Ж+ГЖ FCA руб./т, без НДС  \\\n",
              "0                                                NaN                    \n",
              "1                                                NaN                    \n",
              "2                                                NaN                    \n",
              "\n",
              "   Чугун_FOB Россия Черное море, $/т  \\\n",
              "0                                NaN   \n",
              "1                                NaN   \n",
              "2                                NaN   \n",
              "\n",
              "   Лом_3А, РФ FCA ж/д Кемеровская обл, руб./т, без НДС  \\\n",
              "0                                                NaN     \n",
              "1                                                NaN     \n",
              "2                                                NaN     \n",
              "\n",
              "   ЖРС_Россия аглоруда Fe 52-60%, FCA руб./т, без НДС  \\\n",
              "0                                                NaN    \n",
              "1                                                NaN    \n",
              "2                                                NaN    \n",
              "\n",
              "   ЖРС_Россия концентрат Fe 64-68%, FCA руб./т, без НДС  \\\n",
              "0                                                NaN      \n",
              "1                                                NaN      \n",
              "2                                                NaN      \n",
              "\n",
              "   Чугун_Россия, FCA руб./т, без НДС  \\\n",
              "0                                NaN   \n",
              "1                                NaN   \n",
              "2                                NaN   \n",
              "\n",
              "   Концентрат коксующегося угля_HCC Австралия, $/t FOB  \\\n",
              "0                                                NaN     \n",
              "1                                                NaN     \n",
              "2                                                NaN     \n",
              "\n",
              "   ЖРС_Россия окатыши Fe 62-65,5% FCA руб./т, без НДС  ГБЖ_CFR Италия, $/т  \\\n",
              "0                                                NaN                   NaN   \n",
              "1                                                NaN                   NaN   \n",
              "2                                                NaN                   NaN   \n",
              "\n",
              "   Лом_3А, РФ CPT ж/д Уральский ФО, руб./т, без НДС  \\\n",
              "0                                               NaN   \n",
              "1                                               NaN   \n",
              "2                                               NaN   \n",
              "\n",
              "   Концентрат коксующегося угля_Россия марка Ж FCA руб./т, без НДС  \\\n",
              "0                                                NaN                 \n",
              "1                                                NaN                 \n",
              "2                                                NaN                 \n",
              "\n",
              "   Чугун_CFR Западная Европа, $/т  \\\n",
              "0                             NaN   \n",
              "1                             NaN   \n",
              "2                             NaN   \n",
              "\n",
              "   Лом_3А, РФ FCA ж/д Челябинская обл, руб./т, без НДС  \\\n",
              "0                                                NaN     \n",
              "1                                                NaN     \n",
              "2                                                NaN     \n",
              "\n",
              "   Лом_3А, РФ FCA ж/д ХМАО, руб./т, без НДС  \\\n",
              "0                                       NaN   \n",
              "1                                       NaN   \n",
              "2                                       NaN   \n",
              "\n",
              "   Лом_HMS 1/2 80:20, CFR Турция, $/т  Чугун_CFR Китай, $/т  \\\n",
              "0                                 NaN                   NaN   \n",
              "1                                 NaN                   NaN   \n",
              "2                                 NaN                   NaN   \n",
              "\n",
              "   Лом_3А, РФ FCA ж/д Самарская обл, руб./т, без НДС  \\\n",
              "0                                                NaN   \n",
              "1                                                NaN   \n",
              "2                                                NaN   \n",
              "\n",
              "   Концентрат коксующегося угля_Средняя шихта Россия FCA руб./т, без НДС  \\\n",
              "0                                                NaN                       \n",
              "1                                                NaN                       \n",
              "2                                                NaN                       \n",
              "\n",
              "   Концентрат коксующегося угля_Россия марка ГЖ FCA руб./т, без НДС  \\\n",
              "0                                                NaN                  \n",
              "1                                                NaN                  \n",
              "2                                                NaN                  \n",
              "\n",
              "   Лом_3А, РФ FCA ж/д Нижегородская обл, руб./т, без НДС  \\\n",
              "0                                                NaN       \n",
              "1                                                NaN       \n",
              "2                                                NaN       \n",
              "\n",
              "   Чугун_CFR NOLA США, $/т  \\\n",
              "0                      NaN   \n",
              "1                      NaN   \n",
              "2                      NaN   \n",
              "\n",
              "   Лом_3А, РФ FCA ж/д Новосибирская обл, руб./т, без НДС  \\\n",
              "0                                                NaN       \n",
              "1                                                NaN       \n",
              "2                                                NaN       \n",
              "\n",
              "   Лом_3А, РФ FCA ж/д Свердловская обл, руб./т, без НДС  \\\n",
              "0                                                NaN      \n",
              "1                                                NaN      \n",
              "2                                                NaN      \n",
              "\n",
              "   Чугун_CFR Турция, $/т  \\\n",
              "0                    NaN   \n",
              "1                    NaN   \n",
              "2                    NaN   \n",
              "\n",
              "   ЖРС_Средневзвешенная цена окатыши Fe 62-65,5%, Россия FCA руб./т, без НДС  \\\n",
              "0                                                NaN                           \n",
              "1                                                NaN                           \n",
              "2                                                NaN                           \n",
              "\n",
              "   ЖРС_Средневзвешенная цена концентрат Fe 64-68%, Россия FCA руб./т, без НДС  \\\n",
              "0                                                NaN                            \n",
              "1                                                NaN                            \n",
              "2                                                NaN                            \n",
              "\n",
              "   ЖРС_Средневзвешенная цена аглоруда Fe 52-60%, Россия FCA руб./т, без НДС  \\\n",
              "0                                                NaN                          \n",
              "1                                                NaN                          \n",
              "2                                                NaN                          \n",
              "\n",
              "   ЖРС_Средневзвешенная цена за 1 % Fe в аглоруде, Россия FCA руб./т, без НДС  \\\n",
              "0                                                NaN                            \n",
              "1                                                NaN                            \n",
              "2                                                NaN                            \n",
              "\n",
              "   ЖРС_Средневзвешенная цена за 1 % Fe в концентрате, Россия FCA руб./т, без НДС  \\\n",
              "0                                                NaN                               \n",
              "1                                                NaN                               \n",
              "2                                                NaN                               \n",
              "\n",
              "   ЖРС_Средневзвешенная цена за 1 % Fe в окатыши, Россия FCA руб./т, без НДС  \\\n",
              "0                                                NaN                           \n",
              "1                                                NaN                           \n",
              "2                                                NaN                           \n",
              "\n",
              "   ЖРС_Украинский концентрат Fe 65-68%,  DAP граница Украины с Европой,  $/т  \\\n",
              "0                                                NaN                           \n",
              "1                                                NaN                           \n",
              "2                                                NaN                           \n",
              "\n",
              "   ЖРС_Украинские окатыши Fe 65-66%, DAP граница Украины с Европой,  $/т  \\\n",
              "0                                                NaN                       \n",
              "1                                                NaN                       \n",
              "2                                                NaN                       \n",
              "\n",
              "   Импорт цемента ЖД  Экспорт цемента ЖД  Отгрузка цемента хоппер ЖД  \\\n",
              "0                NaN                 NaN                         NaN   \n",
              "1                NaN                 NaN                         NaN   \n",
              "2                NaN                 NaN                         NaN   \n",
              "\n",
              "   Отгрузка цемента остальные ЖД  Производство цемента  Импорт цемента  \\\n",
              "0                            NaN                   NaN             NaN   \n",
              "1                            NaN                   NaN             NaN   \n",
              "2                            NaN                   NaN             NaN   \n",
              "\n",
              "   Экспорт цемента  Потребление цемента  Отгрузка цемента  Цена цемента с НДС  \\\n",
              "0              NaN                  NaN               NaN                 NaN   \n",
              "1              NaN                  NaN               NaN                 NaN   \n",
              "2              NaN                  NaN               NaN                 NaN   \n",
              "\n",
              "   Цена цемента без НДС  Производство бетона РФ  Производство бетона МО  \\\n",
              "0                   NaN                     NaN                     NaN   \n",
              "1                   NaN                     NaN                     NaN   \n",
              "2                   NaN                     NaN                     NaN   \n",
              "\n",
              "   Производство бетона СПБ  \n",
              "0                      NaN  \n",
              "1                      NaN  \n",
              "2                      NaN  "
            ],
            "text/html": [
              "\n",
              "  <div id=\"df-d9a29e64-28a5-44c8-aa52-eac89ea1dba4\">\n",
              "    <div class=\"colab-df-container\">\n",
              "      <div>\n",
              "<style scoped>\n",
              "    .dataframe tbody tr th:only-of-type {\n",
              "        vertical-align: middle;\n",
              "    }\n",
              "\n",
              "    .dataframe tbody tr th {\n",
              "        vertical-align: top;\n",
              "    }\n",
              "\n",
              "    .dataframe thead th {\n",
              "        text-align: right;\n",
              "    }\n",
              "</style>\n",
              "<table border=\"1\" class=\"dataframe\">\n",
              "  <thead>\n",
              "    <tr style=\"text-align: right;\">\n",
              "      <th></th>\n",
              "      <th>dt</th>\n",
              "      <th>Цена на арматуру</th>\n",
              "      <th>Концентрат коксующегося угля_Россия марка ОС FCA руб./т, без НДС</th>\n",
              "      <th>Лом_HMS 1/2 80:20, FOB EC Роттердам, $/т</th>\n",
              "      <th>Лом_3А, РФ CPT ж/д Южный ФО, руб./т, без НДС</th>\n",
              "      <th>Лом_3А, РФ CPT ж/д Сибирский ФО, руб./т, без НДС</th>\n",
              "      <th>Лом_3А, РФ CPT ж/д Центральный ФО, руб./т, без НДС</th>\n",
              "      <th>ЖРС_Китай Iron ore fines Fe 62%, CFR</th>\n",
              "      <th>Чугун_CFR Италия, $/т</th>\n",
              "      <th>Концентрат коксующегося угля_Россия марка КО FCA руб./т, без НДС</th>\n",
              "      <th>ЖРС_Российские окатыши Fe 62-65,5%, SiO2 5,8-8,65, DAP Забайкальск-Манжули, $/т</th>\n",
              "      <th>Лом_3А, РФ CPT авто Центральный ФО, руб./т, без НДС</th>\n",
              "      <th>Лом_3А, РФ CPT авто Уральский ФО, руб./т, без НДС</th>\n",
              "      <th>Лом_HMS 1/2 80:20, FOB США Восток, $/т</th>\n",
              "      <th>Лом_3А, FOB РФ Черное море, $/т</th>\n",
              "      <th>Чугун_FOB Бразилия Север, $/т</th>\n",
              "      <th>Лом_3А, РФ CPT авто Южный ФО, руб./т, без НДС</th>\n",
              "      <th>Лом_HMS 1/2 80:20, CFR ЮВА, $/т</th>\n",
              "      <th>Концентрат коксующегося угля_Россия марка КС FCA руб./т, без НДС</th>\n",
              "      <th>Лом_Б26 легированный (Ni 9,3%), РФ CPT, руб./т, без НДС</th>\n",
              "      <th>ГБЖ_Россия, FCA руб./т, без НДС</th>\n",
              "      <th>Лом_3А, РФ FCA ж/д респ. Татарстан, руб./т, без НДС</th>\n",
              "      <th>Чугун_FOB Бразилия Юг, $/т</th>\n",
              "      <th>ЖРС_Российский концентрат Fe 62,5-67,5%, SiO2 0,78-8,51, сухой вес, DAP Забайкальск-Манжули, $/т</th>\n",
              "      <th>Концентрат коксующегося угля_Россия марка К и смеси марок К, КО FCA руб./т, без НДС</th>\n",
              "      <th>Чугун_FOB Россия Дальневосточные порты, $/т</th>\n",
              "      <th>Кокс_Россия Урал Сибирь +25, FCA руб./т., без НДС</th>\n",
              "      <th>Лом_3А, РФ FCA ж/д Московский регион, руб./т, без НДС</th>\n",
              "      <th>Концентрат коксующегося угля_Россия марка Ж+ГЖ FCA руб./т, без НДС</th>\n",
              "      <th>Чугун_FOB Россия Черное море, $/т</th>\n",
              "      <th>Лом_3А, РФ FCA ж/д Кемеровская обл, руб./т, без НДС</th>\n",
              "      <th>ЖРС_Россия аглоруда Fe 52-60%, FCA руб./т, без НДС</th>\n",
              "      <th>ЖРС_Россия концентрат Fe 64-68%, FCA руб./т, без НДС</th>\n",
              "      <th>Чугун_Россия, FCA руб./т, без НДС</th>\n",
              "      <th>Концентрат коксующегося угля_HCC Австралия, $/t FOB</th>\n",
              "      <th>ЖРС_Россия окатыши Fe 62-65,5% FCA руб./т, без НДС</th>\n",
              "      <th>ГБЖ_CFR Италия, $/т</th>\n",
              "      <th>Лом_3А, РФ CPT ж/д Уральский ФО, руб./т, без НДС</th>\n",
              "      <th>Концентрат коксующегося угля_Россия марка Ж FCA руб./т, без НДС</th>\n",
              "      <th>Чугун_CFR Западная Европа, $/т</th>\n",
              "      <th>Лом_3А, РФ FCA ж/д Челябинская обл, руб./т, без НДС</th>\n",
              "      <th>Лом_3А, РФ FCA ж/д ХМАО, руб./т, без НДС</th>\n",
              "      <th>Лом_HMS 1/2 80:20, CFR Турция, $/т</th>\n",
              "      <th>Чугун_CFR Китай, $/т</th>\n",
              "      <th>Лом_3А, РФ FCA ж/д Самарская обл, руб./т, без НДС</th>\n",
              "      <th>Концентрат коксующегося угля_Средняя шихта Россия FCA руб./т, без НДС</th>\n",
              "      <th>Концентрат коксующегося угля_Россия марка ГЖ FCA руб./т, без НДС</th>\n",
              "      <th>Лом_3А, РФ FCA ж/д Нижегородская обл, руб./т, без НДС</th>\n",
              "      <th>Чугун_CFR NOLA США, $/т</th>\n",
              "      <th>Лом_3А, РФ FCA ж/д Новосибирская обл, руб./т, без НДС</th>\n",
              "      <th>Лом_3А, РФ FCA ж/д Свердловская обл, руб./т, без НДС</th>\n",
              "      <th>Чугун_CFR Турция, $/т</th>\n",
              "      <th>ЖРС_Средневзвешенная цена окатыши Fe 62-65,5%, Россия FCA руб./т, без НДС</th>\n",
              "      <th>ЖРС_Средневзвешенная цена концентрат Fe 64-68%, Россия FCA руб./т, без НДС</th>\n",
              "      <th>ЖРС_Средневзвешенная цена аглоруда Fe 52-60%, Россия FCA руб./т, без НДС</th>\n",
              "      <th>ЖРС_Средневзвешенная цена за 1 % Fe в аглоруде, Россия FCA руб./т, без НДС</th>\n",
              "      <th>ЖРС_Средневзвешенная цена за 1 % Fe в концентрате, Россия FCA руб./т, без НДС</th>\n",
              "      <th>ЖРС_Средневзвешенная цена за 1 % Fe в окатыши, Россия FCA руб./т, без НДС</th>\n",
              "      <th>ЖРС_Украинский концентрат Fe 65-68%,  DAP граница Украины с Европой,  $/т</th>\n",
              "      <th>ЖРС_Украинские окатыши Fe 65-66%, DAP граница Украины с Европой,  $/т</th>\n",
              "      <th>Импорт цемента ЖД</th>\n",
              "      <th>Экспорт цемента ЖД</th>\n",
              "      <th>Отгрузка цемента хоппер ЖД</th>\n",
              "      <th>Отгрузка цемента остальные ЖД</th>\n",
              "      <th>Производство цемента</th>\n",
              "      <th>Импорт цемента</th>\n",
              "      <th>Экспорт цемента</th>\n",
              "      <th>Потребление цемента</th>\n",
              "      <th>Отгрузка цемента</th>\n",
              "      <th>Цена цемента с НДС</th>\n",
              "      <th>Цена цемента без НДС</th>\n",
              "      <th>Производство бетона РФ</th>\n",
              "      <th>Производство бетона МО</th>\n",
              "      <th>Производство бетона СПБ</th>\n",
              "    </tr>\n",
              "  </thead>\n",
              "  <tbody>\n",
              "    <tr>\n",
              "      <th>0</th>\n",
              "      <td>2015-01-05</td>\n",
              "      <td>32900</td>\n",
              "      <td>NaN</td>\n",
              "      <td>NaN</td>\n",
              "      <td>NaN</td>\n",
              "      <td>NaN</td>\n",
              "      <td>NaN</td>\n",
              "      <td>NaN</td>\n",
              "      <td>NaN</td>\n",
              "      <td>NaN</td>\n",
              "      <td>NaN</td>\n",
              "      <td>NaN</td>\n",
              "      <td>NaN</td>\n",
              "      <td>NaN</td>\n",
              "      <td>NaN</td>\n",
              "      <td>NaN</td>\n",
              "      <td>NaN</td>\n",
              "      <td>NaN</td>\n",
              "      <td>NaN</td>\n",
              "      <td>NaN</td>\n",
              "      <td>NaN</td>\n",
              "      <td>NaN</td>\n",
              "      <td>NaN</td>\n",
              "      <td>NaN</td>\n",
              "      <td>NaN</td>\n",
              "      <td>NaN</td>\n",
              "      <td>NaN</td>\n",
              "      <td>NaN</td>\n",
              "      <td>NaN</td>\n",
              "      <td>NaN</td>\n",
              "      <td>NaN</td>\n",
              "      <td>NaN</td>\n",
              "      <td>NaN</td>\n",
              "      <td>NaN</td>\n",
              "      <td>NaN</td>\n",
              "      <td>NaN</td>\n",
              "      <td>NaN</td>\n",
              "      <td>NaN</td>\n",
              "      <td>NaN</td>\n",
              "      <td>NaN</td>\n",
              "      <td>NaN</td>\n",
              "      <td>NaN</td>\n",
              "      <td>NaN</td>\n",
              "      <td>NaN</td>\n",
              "      <td>NaN</td>\n",
              "      <td>NaN</td>\n",
              "      <td>NaN</td>\n",
              "      <td>NaN</td>\n",
              "      <td>NaN</td>\n",
              "      <td>NaN</td>\n",
              "      <td>NaN</td>\n",
              "      <td>NaN</td>\n",
              "      <td>NaN</td>\n",
              "      <td>NaN</td>\n",
              "      <td>NaN</td>\n",
              "      <td>NaN</td>\n",
              "      <td>NaN</td>\n",
              "      <td>NaN</td>\n",
              "      <td>NaN</td>\n",
              "      <td>NaN</td>\n",
              "      <td>NaN</td>\n",
              "      <td>NaN</td>\n",
              "      <td>NaN</td>\n",
              "      <td>NaN</td>\n",
              "      <td>NaN</td>\n",
              "      <td>NaN</td>\n",
              "      <td>NaN</td>\n",
              "      <td>NaN</td>\n",
              "      <td>NaN</td>\n",
              "      <td>NaN</td>\n",
              "      <td>NaN</td>\n",
              "      <td>NaN</td>\n",
              "      <td>NaN</td>\n",
              "      <td>NaN</td>\n",
              "    </tr>\n",
              "    <tr>\n",
              "      <th>1</th>\n",
              "      <td>2015-01-12</td>\n",
              "      <td>32500</td>\n",
              "      <td>NaN</td>\n",
              "      <td>NaN</td>\n",
              "      <td>NaN</td>\n",
              "      <td>NaN</td>\n",
              "      <td>NaN</td>\n",
              "      <td>NaN</td>\n",
              "      <td>NaN</td>\n",
              "      <td>NaN</td>\n",
              "      <td>NaN</td>\n",
              "      <td>NaN</td>\n",
              "      <td>NaN</td>\n",
              "      <td>NaN</td>\n",
              "      <td>NaN</td>\n",
              "      <td>NaN</td>\n",
              "      <td>NaN</td>\n",
              "      <td>NaN</td>\n",
              "      <td>NaN</td>\n",
              "      <td>NaN</td>\n",
              "      <td>NaN</td>\n",
              "      <td>NaN</td>\n",
              "      <td>NaN</td>\n",
              "      <td>NaN</td>\n",
              "      <td>NaN</td>\n",
              "      <td>NaN</td>\n",
              "      <td>NaN</td>\n",
              "      <td>NaN</td>\n",
              "      <td>NaN</td>\n",
              "      <td>NaN</td>\n",
              "      <td>NaN</td>\n",
              "      <td>NaN</td>\n",
              "      <td>NaN</td>\n",
              "      <td>NaN</td>\n",
              "      <td>NaN</td>\n",
              "      <td>NaN</td>\n",
              "      <td>NaN</td>\n",
              "      <td>NaN</td>\n",
              "      <td>NaN</td>\n",
              "      <td>NaN</td>\n",
              "      <td>NaN</td>\n",
              "      <td>NaN</td>\n",
              "      <td>NaN</td>\n",
              "      <td>NaN</td>\n",
              "      <td>NaN</td>\n",
              "      <td>NaN</td>\n",
              "      <td>NaN</td>\n",
              "      <td>NaN</td>\n",
              "      <td>NaN</td>\n",
              "      <td>NaN</td>\n",
              "      <td>NaN</td>\n",
              "      <td>NaN</td>\n",
              "      <td>NaN</td>\n",
              "      <td>NaN</td>\n",
              "      <td>NaN</td>\n",
              "      <td>NaN</td>\n",
              "      <td>NaN</td>\n",
              "      <td>NaN</td>\n",
              "      <td>NaN</td>\n",
              "      <td>NaN</td>\n",
              "      <td>NaN</td>\n",
              "      <td>NaN</td>\n",
              "      <td>NaN</td>\n",
              "      <td>NaN</td>\n",
              "      <td>NaN</td>\n",
              "      <td>NaN</td>\n",
              "      <td>NaN</td>\n",
              "      <td>NaN</td>\n",
              "      <td>NaN</td>\n",
              "      <td>NaN</td>\n",
              "      <td>NaN</td>\n",
              "      <td>NaN</td>\n",
              "      <td>NaN</td>\n",
              "      <td>NaN</td>\n",
              "    </tr>\n",
              "    <tr>\n",
              "      <th>2</th>\n",
              "      <td>2015-01-19</td>\n",
              "      <td>32000</td>\n",
              "      <td>NaN</td>\n",
              "      <td>NaN</td>\n",
              "      <td>NaN</td>\n",
              "      <td>NaN</td>\n",
              "      <td>NaN</td>\n",
              "      <td>NaN</td>\n",
              "      <td>NaN</td>\n",
              "      <td>NaN</td>\n",
              "      <td>NaN</td>\n",
              "      <td>NaN</td>\n",
              "      <td>NaN</td>\n",
              "      <td>NaN</td>\n",
              "      <td>NaN</td>\n",
              "      <td>NaN</td>\n",
              "      <td>NaN</td>\n",
              "      <td>NaN</td>\n",
              "      <td>NaN</td>\n",
              "      <td>NaN</td>\n",
              "      <td>NaN</td>\n",
              "      <td>NaN</td>\n",
              "      <td>NaN</td>\n",
              "      <td>NaN</td>\n",
              "      <td>NaN</td>\n",
              "      <td>NaN</td>\n",
              "      <td>NaN</td>\n",
              "      <td>NaN</td>\n",
              "      <td>NaN</td>\n",
              "      <td>NaN</td>\n",
              "      <td>NaN</td>\n",
              "      <td>NaN</td>\n",
              "      <td>NaN</td>\n",
              "      <td>NaN</td>\n",
              "      <td>NaN</td>\n",
              "      <td>NaN</td>\n",
              "      <td>NaN</td>\n",
              "      <td>NaN</td>\n",
              "      <td>NaN</td>\n",
              "      <td>NaN</td>\n",
              "      <td>NaN</td>\n",
              "      <td>NaN</td>\n",
              "      <td>NaN</td>\n",
              "      <td>NaN</td>\n",
              "      <td>NaN</td>\n",
              "      <td>NaN</td>\n",
              "      <td>NaN</td>\n",
              "      <td>NaN</td>\n",
              "      <td>NaN</td>\n",
              "      <td>NaN</td>\n",
              "      <td>NaN</td>\n",
              "      <td>NaN</td>\n",
              "      <td>NaN</td>\n",
              "      <td>NaN</td>\n",
              "      <td>NaN</td>\n",
              "      <td>NaN</td>\n",
              "      <td>NaN</td>\n",
              "      <td>NaN</td>\n",
              "      <td>NaN</td>\n",
              "      <td>NaN</td>\n",
              "      <td>NaN</td>\n",
              "      <td>NaN</td>\n",
              "      <td>NaN</td>\n",
              "      <td>NaN</td>\n",
              "      <td>NaN</td>\n",
              "      <td>NaN</td>\n",
              "      <td>NaN</td>\n",
              "      <td>NaN</td>\n",
              "      <td>NaN</td>\n",
              "      <td>NaN</td>\n",
              "      <td>NaN</td>\n",
              "      <td>NaN</td>\n",
              "      <td>NaN</td>\n",
              "      <td>NaN</td>\n",
              "    </tr>\n",
              "  </tbody>\n",
              "</table>\n",
              "</div>\n",
              "      <button class=\"colab-df-convert\" onclick=\"convertToInteractive('df-d9a29e64-28a5-44c8-aa52-eac89ea1dba4')\"\n",
              "              title=\"Convert this dataframe to an interactive table.\"\n",
              "              style=\"display:none;\">\n",
              "        \n",
              "  <svg xmlns=\"http://www.w3.org/2000/svg\" height=\"24px\"viewBox=\"0 0 24 24\"\n",
              "       width=\"24px\">\n",
              "    <path d=\"M0 0h24v24H0V0z\" fill=\"none\"/>\n",
              "    <path d=\"M18.56 5.44l.94 2.06.94-2.06 2.06-.94-2.06-.94-.94-2.06-.94 2.06-2.06.94zm-11 1L8.5 8.5l.94-2.06 2.06-.94-2.06-.94L8.5 2.5l-.94 2.06-2.06.94zm10 10l.94 2.06.94-2.06 2.06-.94-2.06-.94-.94-2.06-.94 2.06-2.06.94z\"/><path d=\"M17.41 7.96l-1.37-1.37c-.4-.4-.92-.59-1.43-.59-.52 0-1.04.2-1.43.59L10.3 9.45l-7.72 7.72c-.78.78-.78 2.05 0 2.83L4 21.41c.39.39.9.59 1.41.59.51 0 1.02-.2 1.41-.59l7.78-7.78 2.81-2.81c.8-.78.8-2.07 0-2.86zM5.41 20L4 18.59l7.72-7.72 1.47 1.35L5.41 20z\"/>\n",
              "  </svg>\n",
              "      </button>\n",
              "      \n",
              "  <style>\n",
              "    .colab-df-container {\n",
              "      display:flex;\n",
              "      flex-wrap:wrap;\n",
              "      gap: 12px;\n",
              "    }\n",
              "\n",
              "    .colab-df-convert {\n",
              "      background-color: #E8F0FE;\n",
              "      border: none;\n",
              "      border-radius: 50%;\n",
              "      cursor: pointer;\n",
              "      display: none;\n",
              "      fill: #1967D2;\n",
              "      height: 32px;\n",
              "      padding: 0 0 0 0;\n",
              "      width: 32px;\n",
              "    }\n",
              "\n",
              "    .colab-df-convert:hover {\n",
              "      background-color: #E2EBFA;\n",
              "      box-shadow: 0px 1px 2px rgba(60, 64, 67, 0.3), 0px 1px 3px 1px rgba(60, 64, 67, 0.15);\n",
              "      fill: #174EA6;\n",
              "    }\n",
              "\n",
              "    [theme=dark] .colab-df-convert {\n",
              "      background-color: #3B4455;\n",
              "      fill: #D2E3FC;\n",
              "    }\n",
              "\n",
              "    [theme=dark] .colab-df-convert:hover {\n",
              "      background-color: #434B5C;\n",
              "      box-shadow: 0px 1px 3px 1px rgba(0, 0, 0, 0.15);\n",
              "      filter: drop-shadow(0px 1px 2px rgba(0, 0, 0, 0.3));\n",
              "      fill: #FFFFFF;\n",
              "    }\n",
              "  </style>\n",
              "\n",
              "      <script>\n",
              "        const buttonEl =\n",
              "          document.querySelector('#df-d9a29e64-28a5-44c8-aa52-eac89ea1dba4 button.colab-df-convert');\n",
              "        buttonEl.style.display =\n",
              "          google.colab.kernel.accessAllowed ? 'block' : 'none';\n",
              "\n",
              "        async function convertToInteractive(key) {\n",
              "          const element = document.querySelector('#df-d9a29e64-28a5-44c8-aa52-eac89ea1dba4');\n",
              "          const dataTable =\n",
              "            await google.colab.kernel.invokeFunction('convertToInteractive',\n",
              "                                                     [key], {});\n",
              "          if (!dataTable) return;\n",
              "\n",
              "          const docLinkHtml = 'Like what you see? Visit the ' +\n",
              "            '<a target=\"_blank\" href=https://colab.research.google.com/notebooks/data_table.ipynb>data table notebook</a>'\n",
              "            + ' to learn more about interactive tables.';\n",
              "          element.innerHTML = '';\n",
              "          dataTable['output_type'] = 'display_data';\n",
              "          await google.colab.output.renderOutput(dataTable, element);\n",
              "          const docLink = document.createElement('div');\n",
              "          docLink.innerHTML = docLinkHtml;\n",
              "          element.appendChild(docLink);\n",
              "        }\n",
              "      </script>\n",
              "    </div>\n",
              "  </div>\n",
              "  "
            ]
          },
          "metadata": {},
          "execution_count": 439
        }
      ],
      "source": [
        "train.head(3)"
      ]
    },
    {
      "cell_type": "code",
      "execution_count": 439,
      "id": "XbAou6wsKzeo",
      "metadata": {
        "id": "XbAou6wsKzeo"
      },
      "outputs": [],
      "source": []
    },
    {
      "cell_type": "code",
      "execution_count": 440,
      "id": "8e566e6a",
      "metadata": {
        "id": "8e566e6a"
      },
      "outputs": [],
      "source": [
        "metal_market = pd.read_excel('Показатели рынка металла.xlsx')\n",
        "train=train.merge(metal_market, on='dt', how='left')\n",
        "test=test.merge(metal_market, on='dt', how='left')"
      ]
    },
    {
      "cell_type": "code",
      "execution_count": 441,
      "id": "dbf1f4a4",
      "metadata": {
        "id": "dbf1f4a4"
      },
      "outputs": [],
      "source": [
        "fuel = pd.read_excel('Топливо.xlsx')\n",
        "train=train.merge(fuel, on='dt', how='left')\n",
        "test=test.merge(fuel, on='dt', how='left')"
      ]
    },
    {
      "cell_type": "code",
      "execution_count": 442,
      "id": "26d11a5e",
      "metadata": {
        "id": "26d11a5e"
      },
      "outputs": [],
      "source": [
        "Cargo = pd.read_excel('Грузоперевозки.xlsx')\n",
        "train=train.merge(Cargo, on='dt', how='left')\n",
        "test=test.merge(Cargo, on='dt', how='left')"
      ]
    },
    {
      "cell_type": "code",
      "execution_count": 443,
      "id": "845aca4a",
      "metadata": {
        "id": "845aca4a"
      },
      "outputs": [],
      "source": [
        "index_LME = pd.read_excel('Индекс LME.xlsx', nrows=516).rename(columns={'дата': 'dt'})\n",
        "train=train.merge(index_LME, on='dt', how='left')\n",
        "test=test.merge(index_LME, on='dt', how='left')"
      ]
    },
    {
      "cell_type": "code",
      "execution_count": 444,
      "id": "11477f03",
      "metadata": {
        "id": "11477f03"
      },
      "outputs": [],
      "source": [
        "macro_indicators = pd.read_excel('Макропоказатели.xlsx')\n",
        "train=train.merge(macro_indicators, on='dt', how='left')\n",
        "test=test.merge(macro_indicators, on='dt', how='left')"
      ]
    },
    {
      "cell_type": "markdown",
      "source": [
        "# Избавляемся от колонок с большим количеством пропусков, заполняем оставшиеся пустые данные"
      ],
      "metadata": {
        "id": "RtsKMevhUj6V"
      },
      "id": "RtsKMevhUj6V"
    },
    {
      "cell_type": "code",
      "execution_count": 445,
      "id": "EQcp4HYzSFVj",
      "metadata": {
        "id": "EQcp4HYzSFVj"
      },
      "outputs": [],
      "source": [
        "use_col = list(train.isna().sum()[(train.isna().sum()/len(train))<0.2].keys())\n",
        "#use_col = set(use_col+list(test.isna().sum()[(test.isna().sum()/len(test))<0.2].keys()))\n",
        "\n",
        "train = train[use_col].fillna(method='ffill').fillna(method='bfill')\n",
        "test = test[use_col].fillna(method='ffill').fillna(method='bfill')"
      ]
    },
    {
      "cell_type": "markdown",
      "source": [
        "# Разделяем дату на временные фичи"
      ],
      "metadata": {
        "id": "gR-1zOLnUueY"
      },
      "id": "gR-1zOLnUueY"
    },
    {
      "cell_type": "code",
      "execution_count": 446,
      "id": "19c8dbe5",
      "metadata": {
        "colab": {
          "base_uri": "https://localhost:8080/"
        },
        "id": "19c8dbe5",
        "outputId": "a6d6aa48-f2a7-473f-8473-594081d2562b"
      },
      "outputs": [
        {
          "output_type": "stream",
          "name": "stdout",
          "text": [
            "[0, 365, 366, 365, 365, 365, 366, 365, 365]\n",
            "[0, 365, 731, 1096, 1461, 1826, 2192, 2557, 2922]\n",
            "Index(['dt', 'Цена на арматуру',\n",
            "       'Концентрат коксующегося угля_Россия марка ОС FCA руб./т, без НДС',\n",
            "       'Лом_HMS 1/2 80:20, FOB EC Роттердам, $/т',\n",
            "       'Лом_3А, РФ CPT ж/д Южный ФО, руб./т, без НДС',\n",
            "       'Лом_3А, РФ CPT ж/д Сибирский ФО, руб./т, без НДС',\n",
            "       'Лом_3А, РФ CPT ж/д Центральный ФО, руб./т, без НДС',\n",
            "       'ЖРС_Китай Iron ore fines Fe 62%, CFR',\n",
            "       'Концентрат коксующегося угля_Россия марка КО FCA руб./т, без НДС',\n",
            "       'ЖРС_Российские окатыши Fe 62-65,5%, SiO2 5,8-8,65, DAP Забайкальск-Манжули, $/т',\n",
            "       'Лом_HMS 1/2 80:20, FOB США Восток, $/т',\n",
            "       'Лом_3А, FOB РФ Черное море, $/т', 'Чугун_FOB Бразилия Север, $/т',\n",
            "       'Лом_HMS 1/2 80:20, CFR ЮВА, $/т',\n",
            "       'Концентрат коксующегося угля_Россия марка КС FCA руб./т, без НДС',\n",
            "       'Лом_3А, РФ FCA ж/д респ. Татарстан, руб./т, без НДС',\n",
            "       'ЖРС_Российский концентрат Fe 62,5-67,5%, SiO2 0,78-8,51, сухой вес, DAP Забайкальск-Манжули, $/т',\n",
            "       'Концентрат коксующегося угля_Россия марка К и смеси марок К, КО FCA руб./т, без НДС',\n",
            "       'Кокс_Россия Урал Сибирь +25, FCA руб./т., без НДС',\n",
            "       'Лом_3А, РФ FCA ж/д Московский регион, руб./т, без НДС',\n",
            "       'Концентрат коксующегося угля_Россия марка Ж+ГЖ FCA руб./т, без НДС',\n",
            "       'Чугун_FOB Россия Черное море, $/т',\n",
            "       'ЖРС_Россия аглоруда Fe 52-60%, FCA руб./т, без НДС',\n",
            "       'ЖРС_Россия концентрат Fe 64-68%, FCA руб./т, без НДС',\n",
            "       'Чугун_Россия, FCA руб./т, без НДС',\n",
            "       'Концентрат коксующегося угля_HCC Австралия, $/t FOB',\n",
            "       'ЖРС_Россия окатыши Fe 62-65,5% FCA руб./т, без НДС',\n",
            "       'Лом_3А, РФ CPT ж/д Уральский ФО, руб./т, без НДС',\n",
            "       'Концентрат коксующегося угля_Россия марка Ж FCA руб./т, без НДС',\n",
            "       'Лом_HMS 1/2 80:20, CFR Турция, $/т',\n",
            "       'Концентрат коксующегося угля_Средняя шихта Россия FCA руб./т, без НДС',\n",
            "       'Концентрат коксующегося угля_Россия марка ГЖ FCA руб./т, без НДС',\n",
            "       'ЖРС_Средневзвешенная цена окатыши Fe 62-65,5%, Россия FCA руб./т, без НДС',\n",
            "       'ЖРС_Средневзвешенная цена концентрат Fe 64-68%, Россия FCA руб./т, без НДС',\n",
            "       'ЖРС_Средневзвешенная цена аглоруда Fe 52-60%, Россия FCA руб./т, без НДС',\n",
            "       'ЖРС_Средневзвешенная цена за 1 % Fe в аглоруде, Россия FCA руб./т, без НДС'],\n",
            "      dtype='object')\n"
          ]
        }
      ],
      "source": [
        "pref_days = [0]\n",
        "for year in range(2015 ,2023):\n",
        "    pref_days.append(pd.Timestamp(f'{year}-12-31').dayofyear)\n",
        "print(pref_days)\n",
        "for i in range(1, len(pref_days)):\n",
        "    pref_days[i] += pref_days[i-1]\n",
        "print(pref_days)\n",
        "\n",
        "\n",
        "def prepare(x):\n",
        "    #if x=='nan':\n",
        "    #    return -1,-1,-1,-1,-1,-1,-1,-1,-1,-1,-1\n",
        "    x = x.split(' ')\n",
        "    #print(x)\n",
        "    date = x[0].split('-')\n",
        "    #time = x[1].split(':')\n",
        "    year,month,day = map(int, date)\n",
        "    timestamp = pd.Timestamp(f'{year}-{month}-{day}')\n",
        "    #hour = 0 #int(time[0])\n",
        "    dayofyear = timestamp.dayofyear\n",
        "    dayofweek = timestamp.dayofweek\n",
        "    ind_date = dayofyear + pref_days[year - 2015] - 1\n",
        "    #ind_hour = ind_date * 24 + hour\n",
        "    if dayofweek >= 5:\n",
        "        days_to_weekend = 0\n",
        "    else:\n",
        "        days_to_weekend = min(dayofweek + 1, abs(5 - dayofweek))\n",
        "    return year, month, ind_date\n",
        "print(test.columns)\n",
        "\n",
        "\n",
        "add_columns = list(map(lambda x: 'dt'+'_'+x, ['year', 'month', 'ind_date']))\n",
        "\n",
        "train[add_columns] = list(train['dt'].astype(str).apply(prepare))\n",
        "test[add_columns] = list(test['dt'].astype(str).apply(prepare))\n",
        "\n",
        "for col in add_columns:\n",
        "\n",
        "    train[col] = train[col].astype(np.int32)\n",
        "    test[col] = test[col].astype(np.int32)\n",
        "\n",
        "del train['dt'],test['dt']"
      ]
    },
    {
      "cell_type": "markdown",
      "source": [
        "# Избавляемся от колонок с высокой корреляцией и которые ухудшали валидацию"
      ],
      "metadata": {
        "id": "n2SYfMBFU1l7"
      },
      "id": "n2SYfMBFU1l7"
    },
    {
      "cell_type": "code",
      "execution_count": 447,
      "id": "42a3a04b",
      "metadata": {
        "id": "42a3a04b"
      },
      "outputs": [],
      "source": [
        "to_drop=['Лом_HMS 1/2 80:20, FOB EC Роттердам, $/т', 'Лом_HMS 1/2 80:20, CFR Турция, $/т',\n",
        "         'Концентрат коксующегося угля_Россия марка ОС FCA руб./т, без НДС',\n",
        "         'Лом_3А, РФ FCA ж/д респ. Татарстан, руб./т, без НДС',\n",
        "         'Чугун_Россия, FCA руб./т, без НДС',\n",
        "         #'ЖРС_Российские окатыши Fe 62-65,5%, SiO2 5,8-8,65, DAP Забайкальск-Манжули, $/т',\n",
        "         'dt_ind_date',\n",
        "         'Чугун_FOB Бразилия Север, $/т',\n",
        "         'Кокс_Россия Урал Сибирь +25, FCA руб./т., без НДС',\n",
        "         'ЖРС_Средневзвешенная цена окатыши Fe 62-65,5%, Россия FCA руб./т, без НДС',\n",
        "         'dt_month',\n",
        "         'Чугун_FOB Россия Черное море, $/т'\n",
        "         #'Концентрат коксующегося угля_Россия марка ГЖ FCA руб./т, без НДС'\n",
        "        ]\n",
        "train=train.drop(to_drop, axis=1)\n",
        "test=test.drop(to_drop, axis=1)"
      ]
    },
    {
      "cell_type": "markdown",
      "source": [
        "# Соединяем строки данных и достаем идущие после них цены\n",
        "\n",
        "Пример [[0,0,0],\n",
        "        [1,2,3],\n",
        "        [4,5,6]] --> [[0,0,0,1,2,3,4,5,6]]\n",
        "\n",
        "\n",
        "Для строки x таргетом будет цена строки x+1, x+2, ...\n",
        "\n"
      ],
      "metadata": {
        "id": "XI8aSV2zb-MA"
      },
      "id": "XI8aSV2zb-MA"
    },
    {
      "cell_type": "code",
      "execution_count": 448,
      "id": "d7549c4a",
      "metadata": {
        "id": "d7549c4a"
      },
      "outputs": [],
      "source": [
        "def advanced_reshape(x, portion_size: int):\n",
        "    for i in range(x.shape[0] - portion_size + 1):\n",
        "        yield x[i:i + portion_size, :].reshape(1, -1)"
      ]
    },
    {
      "cell_type": "code",
      "execution_count": 449,
      "id": "2217e7cc",
      "metadata": {
        "id": "2217e7cc"
      },
      "outputs": [],
      "source": [
        "def form_portioned_array(x, portion_size: int):\n",
        "    return np.concatenate(list(advanced_reshape(x, portion_size)),\n",
        "                          axis=0)"
      ]
    },
    {
      "cell_type": "code",
      "execution_count": 450,
      "id": "a76bb878",
      "metadata": {
        "id": "a76bb878"
      },
      "outputs": [],
      "source": [
        "from typing import Tuple\n",
        "\n",
        "\n",
        "def form_lags(x: pd.Series, lags: Tuple[int]) -> pd.DataFrame:\n",
        "    x_lags = tuple()\n",
        "    for lag in lags:\n",
        "        x_lags += (x.shift(lag), )\n",
        "    return pd.concat(x_lags, axis=1).values\n"
      ]
    },
    {
      "cell_type": "markdown",
      "source": [],
      "metadata": {
        "id": "jRcHeH5JdLvE"
      },
      "id": "jRcHeH5JdLvE"
    },
    {
      "cell_type": "markdown",
      "source": [
        "# Генерация фич и скейлер"
      ],
      "metadata": {
        "id": "eQofWzeSdLxt"
      },
      "id": "eQofWzeSdLxt"
    },
    {
      "cell_type": "code",
      "execution_count": 451,
      "id": "6befe71d",
      "metadata": {
        "id": "6befe71d"
      },
      "outputs": [],
      "source": [
        "def generate_feats(data, test, gen_ft=None, max_ft=100, ratio=0.85):\n",
        "    numerics = ['float64', 'int64', 'uint8']\n",
        "    fts = data.copy()\n",
        "    corrs = fts.corr()\n",
        "    target='Цена на арматуру'\n",
        "    if gen_ft is None:\n",
        "        k = len(fts.columns) #длина колонок\n",
        "        gen_ft = []\n",
        "        for i in tqdm(range(k)):\n",
        "            #for j in range(i+1, k):\n",
        "\n",
        "            try:\n",
        "                t1 = fts[fts.columns[i]].dtypes\n",
        "                t2 = fts[target].dtypes\n",
        "                if t1 not in numerics or t2 not in numerics:\n",
        "                    continue\n",
        "                if corrs[fts.columns[i]][target] != np.nan and ((corrs[fts.columns[i]][target] >= ratio) or (corrs[fts.columns[i]][target] <= -ratio)) and fts.columns[i]!=target:\n",
        "                    gen_ft.append([i, target])\n",
        "            except:\n",
        "                pass\n",
        "    for q in tqdm(range(min(max_ft, len(gen_ft)))):\n",
        "        i, target = gen_ft[q]\n",
        "        #test[f\"{test.columns[i]}*{target}\"] = test[test.columns[i]] * test[target]\n",
        "        #test[f\"{test.columns[i]}/{target}\"] = test[test.columns[i]] / (test[target]+1e-9)\n",
        "        #test[f\"{target}/{test.columns[i]}\"] = test[target] / (test[test.columns[i]]+1e-9)\n",
        "        #test[f\"{test.columns[i]}_func1_{target}\"] = test[test.columns[i]] * test[target] / (test[test.columns[i]] + test[target] + 1e-9) ** 2\n",
        "        test[f\"{test.columns[i]}_func2_{target}\"] = abs(test[test.columns[i]] - test[target]) ** 0.5 * abs(test[test.columns[i]] + test[target]) ** 0.5\n",
        "\n",
        "        #fts[f\"{fts.columns[i]}*{target}\"] = fts[fts.columns[i]] * fts[target]\n",
        "        #fts[f\"{fts.columns[i]}/{target}\"] = fts[fts.columns[i]] / (fts[target]+1e-9)\n",
        "        #fts[f\"{target}/{fts.columns[i]}\"] = fts[target] / (fts[fts.columns[i]]+1e-9)\n",
        "        #fts[f\"{fts.columns[i]}_func1_{target}\"] = fts[fts.columns[i]] * fts[target] / (fts[fts.columns[i]] + fts[target] + 1e-9) ** 2\n",
        "        fts[f\"{fts.columns[i]}_func2_{target}\"] = abs(fts[fts.columns[i]] - fts[target]) ** 0.5 * abs(fts[fts.columns[i]] + fts[target]) ** 0.5\n",
        "\n",
        "    # fts = reduce_mem_usage(fts)\n",
        "    return fts, test"
      ]
    },
    {
      "cell_type": "code",
      "execution_count": 452,
      "id": "55284076",
      "metadata": {
        "scrolled": true,
        "id": "55284076"
      },
      "outputs": [],
      "source": [
        "#train.corr()"
      ]
    },
    {
      "cell_type": "code",
      "execution_count": 453,
      "id": "ij2MP_iV0_yC",
      "metadata": {
        "id": "ij2MP_iV0_yC"
      },
      "outputs": [],
      "source": [
        "from sklearn.preprocessing import StandardScaler\n",
        "\n",
        "scaler = StandardScaler()\n",
        "cols=train.columns\n",
        "\n",
        "scaler=scaler.fit(pd.concat([train, test], axis=0))\n",
        "\n",
        "train=pd.DataFrame(scaler.transform(train), columns=cols[0:])\n",
        "test=pd.DataFrame(scaler.transform(test), columns=cols[0:])"
      ]
    },
    {
      "cell_type": "code",
      "execution_count": 454,
      "id": "ebdbc17e",
      "metadata": {
        "scrolled": true,
        "colab": {
          "base_uri": "https://localhost:8080/"
        },
        "id": "ebdbc17e",
        "outputId": "1fbb1b21-3d7a-4240-ec5c-a0ee7d799336"
      },
      "outputs": [
        {
          "output_type": "stream",
          "name": "stderr",
          "text": [
            "100%|██████████| 27/27 [00:00<00:00, 6271.94it/s]\n",
            "100%|██████████| 10/10 [00:00<00:00, 219.67it/s]\n"
          ]
        }
      ],
      "source": [
        "train, test=generate_feats(train, test)"
      ]
    },
    {
      "cell_type": "code",
      "execution_count": 455,
      "id": "49ab3d91",
      "metadata": {
        "id": "49ab3d91",
        "scrolled": true
      },
      "outputs": [],
      "source": [
        "portion_size = 1\n",
        "\n",
        "train_data = form_portioned_array(train.values, portion_size)[:-3]\n",
        "test_data = form_portioned_array(test.values, portion_size)[:-3]"
      ]
    },
    {
      "cell_type": "code",
      "execution_count": 456,
      "id": "506133ae",
      "metadata": {
        "id": "506133ae"
      },
      "outputs": [],
      "source": [
        "train_targets = form_lags(train['Цена на арматуру'], lags=(-portion_size,-portion_size-1,-portion_size-2))[:-3]\n",
        "test_targets = form_lags(test['Цена на арматуру'], lags=(-portion_size,-portion_size-1,-portion_size-2))[:-3]"
      ]
    },
    {
      "cell_type": "markdown",
      "source": [
        "# CV для временных данных\n",
        "\n",
        "для каждого таргета (как далеко идет предсказание обучаем отдельно кб, т.е модель, которая предсказывает на неделю вперед и модель, которая предсказывает на 2 недели вперед - это разные модели)"
      ],
      "metadata": {
        "id": "udG5LuwJdbq3"
      },
      "id": "udG5LuwJdbq3"
    },
    {
      "cell_type": "code",
      "execution_count": 457,
      "id": "749QEVPgMntW",
      "metadata": {
        "id": "749QEVPgMntW"
      },
      "outputs": [],
      "source": [
        "from catboost import CatBoostRegressor"
      ]
    },
    {
      "cell_type": "code",
      "execution_count": null,
      "id": "o8BWKSUoKnNA",
      "metadata": {
        "colab": {
          "base_uri": "https://localhost:8080/"
        },
        "id": "o8BWKSUoKnNA",
        "outputId": "74c56c42-dac3-48da-ccd8-0118ddba7fd4",
        "scrolled": true
      },
      "outputs": [
        {
          "output_type": "stream",
          "name": "stdout",
          "text": [
            "FOLD  0\n",
            "MODEL  0\n",
            "Learning rate set to 0.019529\n",
            "0:\tlearn: 0.2009009\ttest: 0.3025521\tbest: 0.3025521 (0)\ttotal: 460us\tremaining: 920ms\n",
            "1000:\tlearn: 0.0020245\ttest: 0.2069750\tbest: 0.2069750 (1000)\ttotal: 3.38s\tremaining: 3.38s\n",
            "1999:\tlearn: 0.0018883\ttest: 0.2066746\tbest: 0.2066740 (1841)\ttotal: 7.25s\tremaining: 0us\n",
            "\n",
            "bestTest = 0.2066740406\n",
            "bestIteration = 1841\n",
            "\n",
            "Shrink model to first 1842 iterations.\n",
            "0.1751480642710635 2283.4676104243654\n",
            "MODEL  1\n",
            "Learning rate set to 0.019529\n",
            "0:\tlearn: 0.1867704\ttest: 0.2882834\tbest: 0.2882834 (0)\ttotal: 677us\tremaining: 1.35s\n",
            "1000:\tlearn: 0.0066629\ttest: 0.2095917\tbest: 0.2095739 (905)\ttotal: 2.83s\tremaining: 2.83s\n",
            "1999:\tlearn: 0.0066090\ttest: 0.2095533\tbest: 0.2095296 (1513)\ttotal: 5.86s\tremaining: 0us\n",
            "\n",
            "bestTest = 0.2095296439\n",
            "bestIteration = 1513\n",
            "\n",
            "Shrink model to first 1514 iterations.\n",
            "0.1778721637181411 2318.9826638214154\n",
            "MODEL  2\n",
            "Learning rate set to 0.019529\n",
            "0:\tlearn: 0.1729660\ttest: 0.2720653\tbest: 0.2720653 (0)\ttotal: 490us\tremaining: 981ms\n",
            "1000:\tlearn: 0.0019712\ttest: 0.2070606\tbest: 0.2070520 (982)\ttotal: 3.98s\tremaining: 3.97s\n",
            "1999:\tlearn: 0.0018883\ttest: 0.2070969\tbest: 0.2070520 (982)\ttotal: 7.09s\tremaining: 0us\n",
            "\n",
            "bestTest = 0.2070520142\n",
            "bestIteration = 982\n",
            "\n",
            "Shrink model to first 983 iterations.\n",
            "0.174419575523402 2273.9700435128116\n",
            "FOLD  1\n",
            "MODEL  0\n",
            "Learning rate set to 0.021394\n",
            "0:\tlearn: 0.2158085\ttest: 0.7736262\tbest: 0.7736262 (0)\ttotal: 2.1ms\tremaining: 4.2s\n",
            "1000:\tlearn: 0.0017693\ttest: 0.6923436\tbest: 0.6923436 (1000)\ttotal: 3.13s\tremaining: 3.13s\n",
            "1999:\tlearn: 0.0014134\ttest: 0.6919726\tbest: 0.6919487 (1475)\ttotal: 5.24s\tremaining: 0us\n",
            "\n",
            "bestTest = 0.6919486509\n",
            "bestIteration = 1475\n",
            "\n",
            "Shrink model to first 1476 iterations.\n",
            "0.5633482368416398 7344.571334951862\n",
            "MODEL  1\n",
            "Learning rate set to 0.021394\n",
            "0:\tlearn: 0.2035555\ttest: 0.7857629\tbest: 0.7857629 (0)\ttotal: 1.33ms\tremaining: 2.65s\n"
          ]
        }
      ],
      "source": [
        "X=train_data\n",
        "y=train_targets\n",
        "\n",
        "splits=14\n",
        "n_models=3\n",
        "\n",
        "models=[]\n",
        "best_scores=[1e9 for i in range(n_models)]\n",
        "real_scores=[1e30 for i in range(n_models)]\n",
        "for i in range(n_models):\n",
        "    cb=CatBoostRegressor(iterations=2000,verbose=1000, random_state=0)\n",
        "    models.append(cb)\n",
        "best_models=models.copy()\n",
        "\n",
        "kf = TimeSeriesSplit(n_splits=splits)\n",
        "\n",
        "for i, (train_index, val_index) in enumerate(kf.split(X,y)):\n",
        "\n",
        "    print('FOLD ',i)\n",
        "\n",
        "    X_train, X_val = X[train_index], X[val_index]\n",
        "\n",
        "    for j, model in enumerate(models):\n",
        "\n",
        "        print('MODEL ', j)\n",
        "\n",
        "        y_train, y_val = y[:,j][train_index], np.array(y[:,j][val_index])\n",
        "\n",
        "        model.fit(X_train, y_train, eval_set=(X_val, y_val))\n",
        "\n",
        "        pred = np.array(model.predict(X_val))\n",
        "\n",
        "        score = mean_absolute_error(pred, y_val)\n",
        "\n",
        "        pred = (pred*scaler.scale_[0]) + scaler.mean_[0]#2**pred\n",
        "        y_val = (y_val*scaler.scale_[0]) + scaler.mean_[0]#2**y_valA\n",
        "\n",
        "        real_score = mean_absolute_error(pred, y_val)\n",
        "\n",
        "        print(score,real_score)\n",
        "\n",
        "        if score<best_scores[j]:\n",
        "            best_scores[j] = score\n",
        "            real_scores[j] = real_score\n",
        "            best_models[j] = model\n",
        "\n",
        "        models[j]=best_models[j]"
      ]
    },
    {
      "cell_type": "code",
      "execution_count": null,
      "id": "ysmTy5CkN2Ga",
      "metadata": {
        "id": "ysmTy5CkN2Ga"
      },
      "outputs": [],
      "source": [
        "print(best_scores)#1324 1583 2001\n",
        "print(real_scores)#1500 1700 2100"
      ]
    },
    {
      "cell_type": "markdown",
      "source": [
        "# Сохраняем данные и модели для прогонки теста"
      ],
      "metadata": {
        "id": "Xo46FOHFeYU8"
      },
      "id": "Xo46FOHFeYU8"
    },
    {
      "cell_type": "code",
      "execution_count": null,
      "id": "a003c882",
      "metadata": {
        "id": "a003c882"
      },
      "outputs": [],
      "source": [
        "import pickle"
      ]
    },
    {
      "cell_type": "code",
      "source": [
        "for i,model in enumerate(best_models):\n",
        "  with open(f'model{i}.pkl','wb') as f:\n",
        "    pickle.dump(model,f)\n",
        "\n",
        "np.savetxt('test_data.txt',test_data)"
      ],
      "metadata": {
        "id": "DV5cLEyd0lkL"
      },
      "id": "DV5cLEyd0lkL",
      "execution_count": null,
      "outputs": []
    }
  ],
  "metadata": {
    "colab": {
      "provenance": []
    },
    "kernelspec": {
      "display_name": "Python 3 (ipykernel)",
      "language": "python",
      "name": "python3"
    },
    "language_info": {
      "codemirror_mode": {
        "name": "ipython",
        "version": 3
      },
      "file_extension": ".py",
      "mimetype": "text/x-python",
      "name": "python",
      "nbconvert_exporter": "python",
      "pygments_lexer": "ipython3",
      "version": "3.10.8"
    }
  },
  "nbformat": 4,
  "nbformat_minor": 5
}